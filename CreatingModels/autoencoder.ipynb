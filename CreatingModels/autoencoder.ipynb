{
 "cells": [
  {
   "cell_type": "code",
   "execution_count": 14,
   "metadata": {},
   "outputs": [],
   "source": [
    "import pandas as pd\n",
    "import numpy as np\n",
    "import matplotlib.pyplot as plt\n",
    "from sklearn.preprocessing import StandardScaler\n",
    "%matplotlib inline  \n",
    "#plt.rcParams['figure.figsize'] = [15, 10]\n",
    "plt.style.use('seaborn')"
   ]
  },
  {
   "cell_type": "code",
   "execution_count": 15,
   "metadata": {},
   "outputs": [],
   "source": [
    "import numpy as np\n",
    "from datetime import datetime\n",
    "from keras.models import Sequential\n",
    "from keras.layers import LSTM, Input, Dropout\n",
    "from keras.layers import Dense\n",
    "from keras.layers import RepeatVector\n",
    "from keras.layers import TimeDistributed\n",
    "import pandas as pd\n",
    "from matplotlib import pyplot as plt\n",
    "from sklearn.preprocessing import MinMaxScaler, StandardScaler\n",
    "from keras.models import Model\n",
    "import seaborn as sns"
   ]
  },
  {
   "cell_type": "markdown",
   "metadata": {},
   "source": [
    "# Autoencoder zur Anomalie Erkennung"
   ]
  },
  {
   "cell_type": "code",
   "execution_count": 16,
   "metadata": {},
   "outputs": [
    {
     "name": "stderr",
     "output_type": "stream",
     "text": [
      "C:\\Users\\Armin\\AppData\\Local\\Temp/ipykernel_21108/268182317.py:4: SettingWithCopyWarning: \n",
      "A value is trying to be set on a copy of a slice from a DataFrame.\n",
      "Try using .loc[row_indexer,col_indexer] = value instead\n",
      "\n",
      "See the caveats in the documentation: https://pandas.pydata.org/pandas-docs/stable/user_guide/indexing.html#returning-a-view-versus-a-copy\n",
      "  btc['timestamp'] = pd.to_datetime(btc['timestamp'], unit='s')\n"
     ]
    }
   ],
   "source": [
    "data_path = r\"C:\\\\Users\\\\Armin\\\\Documents\\\\Code\\\\Studienarbeit\\\\crypto_daten_kaggle\\\\\"\n",
    "crypto_df = pd.read_hdf('train.h5')\n",
    "btc = crypto_df[crypto_df[\"Asset_ID\"]==1]\n",
    "btc['timestamp'] = pd.to_datetime(btc['timestamp'], unit='s')\n",
    "#btc = btc.set_index(\"timestamp\")"
   ]
  },
  {
   "cell_type": "code",
   "execution_count": 17,
   "metadata": {},
   "outputs": [
    {
     "name": "stdout",
     "output_type": "stream",
     "text": [
      "            index           timestamp  Asset_ID   Count          Open  \\\n",
      "1942619         2 2018-01-01 00:01:00         1   229.0  13835.194000   \n",
      "1942620        10 2018-01-01 00:02:00         1   235.0  13835.036000   \n",
      "1942621        18 2018-01-01 00:03:00         1   528.0  13823.900000   \n",
      "1942622        26 2018-01-01 00:04:00         1   435.0  13802.512000   \n",
      "1942623        34 2018-01-01 00:05:00         1   742.0  13766.000000   \n",
      "...           ...                 ...       ...     ...           ...   \n",
      "3898896  24236739 2021-09-20 23:56:00         1  1940.0  42983.780000   \n",
      "3898897  24236753 2021-09-20 23:57:00         1  2026.0  42904.197143   \n",
      "3898898  24236767 2021-09-20 23:58:00         1  1986.0  42859.385714   \n",
      "3898899  24236781 2021-09-20 23:59:00         1  4047.0  42839.012802   \n",
      "3898900  24236795 2021-09-21 00:00:00         1  2698.0  43009.961250   \n",
      "\n",
      "                 High       Low         Close      Volume          VWAP  \\\n",
      "1942619  14013.800000  13666.11  13850.176000   31.550062  13827.062093   \n",
      "1942620  14052.300000  13680.00  13828.102000   31.046432  13840.362591   \n",
      "1942621  14000.400000  13601.00  13801.314000   55.061820  13806.068014   \n",
      "1942622  13999.000000  13576.28  13768.040000   38.780529  13783.598101   \n",
      "1942623  13955.900000  13554.44  13724.914000  108.501637  13735.586842   \n",
      "...               ...       ...           ...         ...           ...   \n",
      "3898896  43001.850849  42878.26  42899.012857   56.850913  42935.489499   \n",
      "3898897  42932.000000  42840.16  42860.005714   80.993326  42879.576084   \n",
      "3898898  42887.500000  42797.20  42827.020000   65.677734  42844.090693   \n",
      "3898899  43042.160000  42818.10  43017.277143  138.335477  42935.761938   \n",
      "3898900  43048.510000  42961.64  43002.505000  128.206820  43011.414052   \n",
      "\n",
      "           Target  \n",
      "1942619 -0.014643  \n",
      "1942620 -0.015037  \n",
      "1942621 -0.010309  \n",
      "1942622 -0.008999  \n",
      "1942623 -0.008079  \n",
      "...           ...  \n",
      "3898896  0.003325  \n",
      "3898897  0.004098  \n",
      "3898898 -0.000343  \n",
      "3898899  0.000000  \n",
      "3898900  0.000000  \n",
      "\n",
      "[1956282 rows x 11 columns]\n"
     ]
    }
   ],
   "source": [
    "print(btc)"
   ]
  },
  {
   "cell_type": "code",
   "execution_count": 18,
   "metadata": {},
   "outputs": [
    {
     "name": "stdout",
     "output_type": "stream",
     "text": [
      "Start date is:  2018-01-01 00:01:00\n",
      "End date is:  2021-09-21 00:00:00\n",
      "524149\n"
     ]
    },
    {
     "name": "stderr",
     "output_type": "stream",
     "text": [
      "C:\\Users\\Armin\\AppData\\Local\\Temp/ipykernel_21108/74217688.py:24: SettingWithCopyWarning: \n",
      "A value is trying to be set on a copy of a slice from a DataFrame.\n",
      "Try using .loc[row_indexer,col_indexer] = value instead\n",
      "\n",
      "See the caveats in the documentation: https://pandas.pydata.org/pandas-docs/stable/user_guide/indexing.html#returning-a-view-versus-a-copy\n",
      "  train['Close'] = scaler.transform(train[['Close']])\n",
      "C:\\Users\\Armin\\AppData\\Local\\Temp/ipykernel_21108/74217688.py:25: SettingWithCopyWarning: \n",
      "A value is trying to be set on a copy of a slice from a DataFrame.\n",
      "Try using .loc[row_indexer,col_indexer] = value instead\n",
      "\n",
      "See the caveats in the documentation: https://pandas.pydata.org/pandas-docs/stable/user_guide/indexing.html#returning-a-view-versus-a-copy\n",
      "  test['Close'] = scaler.transform(test[['Close']])\n"
     ]
    },
    {
     "data": {
      "image/png": "[encoded data removed]",
      "text/plain": [
       "<Figure size 576x396 with 1 Axes>"
      ]
     },
     "metadata": {},
     "output_type": "display_data"
    }
   ],
   "source": [
    "df = btc[['timestamp', 'Close']]\n",
    "\n",
    "sns.lineplot(x=df['timestamp'], y=df['Close'])\n",
    "\n",
    "print(\"Start date is: \", df['timestamp'].min())\n",
    "print(\"End date is: \", df['timestamp'].max())\n",
    "\n",
    "#Change train data from Mid 2017 to 2019.... seems to be a jump early 2017\n",
    "train, test = df.loc[df['timestamp'] <= datetime.strptime('31/12/18 00:00:00','%d/%m/%y %H:%M:%S' )], df.loc[df['timestamp'] > datetime.strptime('31/12/18 00:00:00','%d/%m/%y %H:%M:%S')]\n",
    "\n",
    "\n",
    "print(len(train))\n",
    "\n",
    "#Convert pandas dataframe to numpy array\n",
    "#dataset = dataframe.values\n",
    "#dataset = dataset.astype('float32') #COnvert values to float\n",
    "\n",
    "#LSTM uses sigmoid and tanh that are sensitive to magnitude so values need to be normalized\n",
    "# normalize the dataset\n",
    "#scaler = MinMaxScaler() #Also try QuantileTransformer\n",
    "scaler = StandardScaler()\n",
    "scaler = scaler.fit(train[['Close']])\n",
    "\n",
    "train['Close'] = scaler.transform(train[['Close']])\n",
    "test['Close'] = scaler.transform(test[['Close']])\n",
    "\n",
    "\n",
    "#As required for LSTM networks, we require to reshape an input data into n_samples x timesteps x n_features. \n",
    "#In this example, the n_features is 2. We will make timesteps = 3. \n",
    "#With this, the resultant n_samples is 5 (as the input data has 9 rows).\n",
    "\n",
    "seq_size = 30  # Number of time steps to look back \n",
    "#Larger sequences (look further back) may improve forecasting.\n",
    "\n",
    "\n",
    "def to_sequences(x, y, seq_size=1):\n",
    "    x_values = []\n",
    "    y_values = []\n",
    "\n",
    "    for i in range(len(x)-seq_size):\n",
    "        #print(i)\n",
    "        x_values.append(x.iloc[i:(i+seq_size)].values)\n",
    "        y_values.append(y.iloc[i+seq_size])\n",
    "        \n",
    "    return np.array(x_values), np.array(y_values)\n",
    "\n",
    "trainX, trainY = to_sequences(train[['Close']], train['Close'], seq_size)\n",
    "testX, testY = to_sequences(test[['Close']], test['Close'], seq_size)\n"
   ]
  },
  {
   "cell_type": "code",
   "execution_count": 19,
   "metadata": {},
   "outputs": [
    {
     "name": "stdout",
     "output_type": "stream",
     "text": [
      "1432103\n"
     ]
    }
   ],
   "source": [
    "print(len(testX))"
   ]
  },
  {
   "cell_type": "code",
   "execution_count": 20,
   "metadata": {},
   "outputs": [
    {
     "name": "stdout",
     "output_type": "stream",
     "text": [
      "Model: \"sequential_1\"\n",
      "_________________________________________________________________\n",
      " Layer (type)                Output Shape              Param #   \n",
      "=================================================================\n",
      " lstm_2 (LSTM)               (None, 128)               66560     \n",
      "                                                                 \n",
      " dropout_2 (Dropout)         (None, 128)               0         \n",
      "                                                                 \n",
      " repeat_vector_1 (RepeatVect  (None, 30, 128)          0         \n",
      " or)                                                             \n",
      "                                                                 \n",
      " lstm_3 (LSTM)               (None, 30, 128)           131584    \n",
      "                                                                 \n",
      " dropout_3 (Dropout)         (None, 30, 128)           0         \n",
      "                                                                 \n",
      " time_distributed_1 (TimeDis  (None, 30, 1)            129       \n",
      " tributed)                                                       \n",
      "                                                                 \n",
      "=================================================================\n",
      "Total params: 198,273\n",
      "Trainable params: 198,273\n",
      "Non-trainable params: 0\n",
      "_________________________________________________________________\n",
      "Epoch 1/50\n",
      "14741/14741 [==============================] - 87s 6ms/step - loss: 0.6334 - val_loss: 1.4382\n",
      "Epoch 2/50\n",
      "14741/14741 [==============================] - 84s 6ms/step - loss: 0.6332 - val_loss: 1.4432\n",
      "Epoch 3/50\n",
      "14741/14741 [==============================] - 84s 6ms/step - loss: 0.6332 - val_loss: 1.4233\n",
      "Epoch 4/50\n",
      "14741/14741 [==============================] - 86s 6ms/step - loss: 0.6332 - val_loss: 1.4385\n",
      "Epoch 5/50\n",
      "14741/14741 [==============================] - 85s 6ms/step - loss: 0.6332 - val_loss: 1.4340\n",
      "Epoch 6/50\n",
      "14741/14741 [==============================] - 86s 6ms/step - loss: 0.6332 - val_loss: 1.4405\n",
      "Epoch 7/50\n",
      "14741/14741 [==============================] - 88s 6ms/step - loss: 0.6332 - val_loss: 1.4718\n",
      "Epoch 8/50\n",
      "14741/14741 [==============================] - 86s 6ms/step - loss: 0.6331 - val_loss: 1.4072\n",
      "Epoch 9/50\n",
      "14741/14741 [==============================] - 82s 6ms/step - loss: 0.6332 - val_loss: 1.4293\n",
      "Epoch 10/50\n",
      "14741/14741 [==============================] - 83s 6ms/step - loss: 0.6332 - val_loss: 1.4312\n",
      "Epoch 11/50\n",
      "14741/14741 [==============================] - 87s 6ms/step - loss: 0.6332 - val_loss: 1.4219\n",
      "Epoch 12/50\n",
      "14741/14741 [==============================] - 86s 6ms/step - loss: 0.6332 - val_loss: 1.4319\n",
      "Epoch 13/50\n",
      "14741/14741 [==============================] - 87s 6ms/step - loss: 0.6332 - val_loss: 1.4020\n",
      "Epoch 14/50\n",
      "14741/14741 [==============================] - 86s 6ms/step - loss: 0.6332 - val_loss: 1.4001\n",
      "Epoch 15/50\n",
      "14741/14741 [==============================] - 84s 6ms/step - loss: 0.6332 - val_loss: 1.4608\n",
      "Epoch 16/50\n",
      "14741/14741 [==============================] - 85s 6ms/step - loss: 0.6331 - val_loss: 1.4397\n",
      "Epoch 17/50\n",
      "14741/14741 [==============================] - 85s 6ms/step - loss: 0.6331 - val_loss: 1.4293\n",
      "Epoch 18/50\n",
      "14741/14741 [==============================] - 89s 6ms/step - loss: 0.6332 - val_loss: 1.4312\n",
      "Epoch 19/50\n",
      "14741/14741 [==============================] - 100s 7ms/step - loss: 0.6332 - val_loss: 1.4318\n",
      "Epoch 20/50\n",
      "14741/14741 [==============================] - 93s 6ms/step - loss: 0.6331 - val_loss: 1.4326\n",
      "Epoch 21/50\n",
      "14741/14741 [==============================] - 90s 6ms/step - loss: 0.6332 - val_loss: 1.4390\n",
      "Epoch 22/50\n",
      "14741/14741 [==============================] - 78s 5ms/step - loss: 0.6332 - val_loss: 1.4361\n",
      "Epoch 23/50\n",
      "14741/14741 [==============================] - 77s 5ms/step - loss: 0.6331 - val_loss: 1.4428\n",
      "Epoch 24/50\n",
      "14741/14741 [==============================] - 79s 5ms/step - loss: 0.6331 - val_loss: 1.4345\n",
      "Epoch 25/50\n",
      "14741/14741 [==============================] - 89s 6ms/step - loss: 0.6332 - val_loss: 1.4268\n",
      "Epoch 26/50\n",
      "14741/14741 [==============================] - 86s 6ms/step - loss: 0.6332 - val_loss: 1.4243\n",
      "Epoch 27/50\n",
      "14741/14741 [==============================] - 88s 6ms/step - loss: 0.6332 - val_loss: 1.4233\n",
      "Epoch 28/50\n",
      "14741/14741 [==============================] - 90s 6ms/step - loss: 0.6331 - val_loss: 1.4487\n",
      "Epoch 29/50\n",
      "14741/14741 [==============================] - 89s 6ms/step - loss: 0.6332 - val_loss: 1.4358\n",
      "Epoch 30/50\n",
      "14741/14741 [==============================] - 89s 6ms/step - loss: 0.6332 - val_loss: 1.4430\n",
      "Epoch 31/50\n",
      "14741/14741 [==============================] - 88s 6ms/step - loss: 0.6332 - val_loss: 1.4097\n",
      "Epoch 32/50\n",
      "14741/14741 [==============================] - 88s 6ms/step - loss: 0.6332 - val_loss: 1.4013\n",
      "Epoch 33/50\n",
      "14741/14741 [==============================] - 89s 6ms/step - loss: 0.6332 - val_loss: 1.4178\n",
      "Epoch 34/50\n",
      "14741/14741 [==============================] - 89s 6ms/step - loss: 0.6332 - val_loss: 1.4010\n",
      "Epoch 35/50\n",
      "14741/14741 [==============================] - 88s 6ms/step - loss: 0.6332 - val_loss: 1.4286\n",
      "Epoch 36/50\n",
      "14741/14741 [==============================] - 89s 6ms/step - loss: 0.6332 - val_loss: 1.4255\n",
      "Epoch 37/50\n",
      "14741/14741 [==============================] - 87s 6ms/step - loss: 0.6332 - val_loss: 1.4327\n",
      "Epoch 38/50\n",
      "14741/14741 [==============================] - 88s 6ms/step - loss: 0.6332 - val_loss: 1.4074\n",
      "Epoch 39/50\n",
      "14741/14741 [==============================] - 90s 6ms/step - loss: 0.6331 - val_loss: 1.4100\n",
      "Epoch 40/50\n",
      "14741/14741 [==============================] - 90s 6ms/step - loss: 0.6331 - val_loss: 1.4126\n",
      "Epoch 41/50\n",
      "14741/14741 [==============================] - 89s 6ms/step - loss: 0.6332 - val_loss: 1.4084\n",
      "Epoch 42/50\n",
      "14741/14741 [==============================] - 88s 6ms/step - loss: 0.6332 - val_loss: 1.4054\n",
      "Epoch 43/50\n",
      "14741/14741 [==============================] - 87s 6ms/step - loss: 0.6332 - val_loss: 1.3924\n",
      "Epoch 44/50\n",
      "14741/14741 [==============================] - 88s 6ms/step - loss: 0.6332 - val_loss: 1.4353\n",
      "Epoch 45/50\n",
      "14741/14741 [==============================] - 89s 6ms/step - loss: 0.6332 - val_loss: 1.4147\n",
      "Epoch 46/50\n",
      "14741/14741 [==============================] - 89s 6ms/step - loss: 0.6332 - val_loss: 1.4336\n",
      "Epoch 47/50\n",
      "14741/14741 [==============================] - 89s 6ms/step - loss: 0.6332 - val_loss: 1.4170\n",
      "Epoch 48/50\n",
      "14741/14741 [==============================] - 88s 6ms/step - loss: 0.6331 - val_loss: 1.4102\n",
      "Epoch 49/50\n",
      "14741/14741 [==============================] - 90s 6ms/step - loss: 0.6331 - val_loss: 1.4282\n",
      "Epoch 50/50\n",
      "14741/14741 [==============================] - 89s 6ms/step - loss: 0.6331 - val_loss: 1.4619\n"
     ]
    },
    {
     "data": {
      "text/plain": [
       "<matplotlib.legend.Legend at 0x1bfb64e2ac0>"
      ]
     },
     "execution_count": 20,
     "metadata": {},
     "output_type": "execute_result"
    },
    {
     "data": {
      "image/png": "[encoded data removed]",
      "text/plain": [
       "<Figure size 576x396 with 1 Axes>"
      ]
     },
     "metadata": {},
     "output_type": "display_data"
    }
   ],
   "source": [
    "model = Sequential()\n",
    "model.add(LSTM(128, input_shape=(trainX.shape[1], trainX.shape[2])))\n",
    "model.add(Dropout(rate=0.2))\n",
    "\n",
    "model.add(RepeatVector(trainX.shape[1]))\n",
    "\n",
    "model.add(LSTM(128, return_sequences=True))\n",
    "model.add(Dropout(rate=0.2))\n",
    "model.add(TimeDistributed(Dense(trainX.shape[2])))\n",
    "model.compile(optimizer='adam', loss='mae')\n",
    "model.summary()\n",
    "\n",
    "# fit model\n",
    "history = model.fit(trainX, trainY, epochs=50, batch_size=32, validation_split=0.1, verbose=1)\n",
    "\n",
    "plt.plot(history.history['loss'], label='Training loss')\n",
    "plt.plot(history.history['val_loss'], label='Validation loss')\n",
    "plt.legend()"
   ]
  },
  {
   "cell_type": "code",
   "execution_count": 21,
   "metadata": {},
   "outputs": [
    {
     "data": {
      "image/png": "[encoded data removed]",
      "text/plain": [
       "<Figure size 576x396 with 1 Axes>"
      ]
     },
     "metadata": {},
     "output_type": "display_data"
    }
   ],
   "source": [
    "trainPredict = model.predict(trainX)\n",
    "trainMAE = np.mean(np.abs(trainPredict - trainX), axis=1)\n",
    "plt.hist(trainMAE, bins=30)\n",
    "max_trainMAE = 0.3  #or Define 90% value of max as threshold.\n",
    "\n",
    "testPredict = model.predict(testX)\n",
    "testMAE = np.mean(np.abs(testPredict - testX), axis=1)\n",
    "plt.hist(testMAE, bins=30)\n",
    "\n",
    "#Capture all details in a DataFrame for easy plotting\n",
    "anomaly_df = pd.DataFrame(test[seq_size:])\n",
    "anomaly_df['testMAE'] = testMAE\n",
    "anomaly_df['max_trainMAE'] = max_trainMAE\n",
    "anomaly_df['anomaly'] = anomaly_df['testMAE'] > anomaly_df['max_trainMAE']\n",
    "anomaly_df['Close'] = test[seq_size:]['Close']\n",
    "\n",
    "#Plot testMAE vs max_trainMAE\n",
    "sns.lineplot(x=anomaly_df['timestamp'], y=anomaly_df['testMAE'])\n",
    "sns.lineplot(x=anomaly_df['timestamp'], y=anomaly_df['max_trainMAE'])\n",
    "\n",
    "anomalies = anomaly_df.loc[anomaly_df['anomaly'] == True]\n"
   ]
  },
  {
   "cell_type": "code",
   "execution_count": 25,
   "metadata": {},
   "outputs": [
    {
     "name": "stdout",
     "output_type": "stream",
     "text": [
      "2466798   2018-12-31 00:31:00\n",
      "2466799   2018-12-31 00:32:00\n",
      "2466800   2018-12-31 00:33:00\n",
      "2466801   2018-12-31 00:34:00\n",
      "2466802   2018-12-31 00:35:00\n",
      "                  ...        \n",
      "3898896   2021-09-20 23:56:00\n",
      "3898897   2021-09-20 23:57:00\n",
      "3898898   2021-09-20 23:58:00\n",
      "3898899   2021-09-20 23:59:00\n",
      "3898900   2021-09-21 00:00:00\n",
      "Name: timestamp, Length: 1249597, dtype: datetime64[ns]\n"
     ]
    }
   ],
   "source": [
    "print(anomalies.timestamp)"
   ]
  },
  {
   "cell_type": "code",
   "execution_count": null,
   "metadata": {},
   "outputs": [],
   "source": [
    "model.save_weights(\"./autoencoder/model_lstm_autoencoder_01\")"
   ]
  },
  {
   "cell_type": "code",
   "execution_count": 22,
   "metadata": {},
   "outputs": [
    {
     "data": {
      "text/plain": [
       "<AxesSubplot:xlabel='timestamp', ylabel='Close'>"
      ]
     },
     "execution_count": 22,
     "metadata": {},
     "output_type": "execute_result"
    },
    {
     "data": {
      "image/png": "[encoded data removed]",
      "text/plain": [
       "<Figure size 576x396 with 1 Axes>"
      ]
     },
     "metadata": {},
     "output_type": "display_data"
    }
   ],
   "source": [
    "sns.lineplot(x=anomaly_df['timestamp'], y=anomaly_df['Close'])\n",
    "sns.scatterplot(x=anomalies['timestamp'], y=anomalies['Close'], color='r')\n"
   ]
  }
 ],
 "metadata": {
  "interpreter": {
   "hash": "c4ec2562924779a66fd10c1a03c3508e9a90d2357bc92aebf463c21868d6cc7c"
  },
  "kernelspec": {
   "display_name": "Python 3.8.6 64-bit ('env': venv)",
   "language": "python",
   "name": "python3"
  },
  "language_info": {
   "codemirror_mode": {
    "name": "ipython",
    "version": 3
   },
   "file_extension": ".py",
   "mimetype": "text/x-python",
   "name": "python",
   "nbconvert_exporter": "python",
   "pygments_lexer": "ipython3",
   "version": "3.8.6"
  },
  "orig_nbformat": 4
 },
 "nbformat": 4,
 "nbformat_minor": 2
}
