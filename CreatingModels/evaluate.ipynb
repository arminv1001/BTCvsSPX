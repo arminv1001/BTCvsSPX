{
 "cells": [
  {
   "cell_type": "code",
   "execution_count": 14,
   "metadata": {},
   "outputs": [
    {
     "name": "stdout",
     "output_type": "stream",
     "text": [
      "36\n"
     ]
    }
   ],
   "source": [
    "import numpy as np\n",
    "import pandas as pd\n",
    "from keras.models import load_model\n",
    "from sklearn.metrics import mean_squared_error\n",
    "import matplotlib.pyplot as plt\n",
    "from sklearn.preprocessing import StandardScaler\n",
    "from sklearn.metrics import confusion_matrix\n",
    "from sklearn.metrics import roc_curve\n",
    "\n",
    "model = load_model('Regression/Models/1_lstm_V2_reg.h5')\n",
    "btc_df = pd.read_hdf('Regression\\Data\\Testing\\\\testing_1_V4_reg.h5')\n",
    "btc_df.index = btc_df.index.astype(\"int\")\n",
    "btc_df = btc_df.reset_index(drop=True)\n",
    "\n",
    "#scaler = StandardScaler()\n",
    "#scaler = scaler.fit(btc_df)\n",
    "btc_df = btc_df.drop([\"VWAP\",\"Label\"],axis=1)\n",
    "#btc_df = btc_df.drop([\"fft_5\",\"fft_15\",\"fft_50\"], axis=1)\n",
    "train_y = btc_df.pop(\"Target\")\n",
    "print(btc_df.shape[1])\n",
    "plt.style.use('seaborn')\n",
    "\n"
   ]
  },
  {
   "cell_type": "code",
   "execution_count": 15,
   "metadata": {},
   "outputs": [
    {
     "data": {
      "text/plain": [
       "Index(['Count', 'Close', 'mean_trade', 'upper_Shadow', 'lower_Shadow',\n",
       "       'shadow3', 'shadow5', 'mean1', 'UPS', 'LOS', 'LOGVOL', 'LOGCNT', 'Mean',\n",
       "       'High/Mean', 'Low/Mean', 'Volume/Count', 'high2mean', 'low2mean',\n",
       "       'volume2count', 'noise_mult', 'fft_5', 'fft_15', 'fft_50', 'MA_20',\n",
       "       'MA_diff', 'Log_High', 'Log_Open', 'Log_Low', 'Log_Close', 'Minute',\n",
       "       'Day', 'Month', 'Year', 'DayOfWeek', 'minute_seasonal',\n",
       "       'correlation_log_perf'],\n",
       "      dtype='object')"
      ]
     },
     "execution_count": 15,
     "metadata": {},
     "output_type": "execute_result"
    }
   ],
   "source": [
    "btc_df.columns"
   ]
  },
  {
   "cell_type": "code",
   "execution_count": null,
   "metadata": {},
   "outputs": [],
   "source": []
  },
  {
   "cell_type": "code",
   "execution_count": 16,
   "metadata": {},
   "outputs": [],
   "source": [
    "btc_target_label = train_y[:-16]\n",
    "n_future = 1 #Naechste 15min prädizieren\n",
    "n_past = 16\n",
    "train_x = []\n",
    "train_y = []\n",
    "for i in range(n_past,len(btc_df)-n_future+1):\n",
    "    train_x.append(btc_df.iloc[i-n_past:i, 0:btc_df.shape[1]])\n",
    "train_x,train_y = np.array(train_x), np.array(btc_target_label)"
   ]
  },
  {
   "cell_type": "code",
   "execution_count": 26,
   "metadata": {},
   "outputs": [
    {
     "data": {
      "text/plain": [
       "(489025, 16, 36)"
      ]
     },
     "execution_count": 26,
     "metadata": {},
     "output_type": "execute_result"
    }
   ],
   "source": [
    "train_x.shape"
   ]
  },
  {
   "cell_type": "code",
   "execution_count": 17,
   "metadata": {},
   "outputs": [],
   "source": [
    "trainPredict = model.predict(train_x)"
   ]
  },
  {
   "cell_type": "code",
   "execution_count": 5,
   "metadata": {},
   "outputs": [
    {
     "data": {
      "text/plain": [
       "array([[ 0.0031775 ],\n",
       "       [ 0.0031775 ],\n",
       "       [ 0.0031775 ],\n",
       "       ...,\n",
       "       [-0.0059476 ],\n",
       "       [-0.006049  ],\n",
       "       [-0.00601253]], dtype=float32)"
      ]
     },
     "execution_count": 5,
     "metadata": {},
     "output_type": "execute_result"
    }
   ],
   "source": [
    "trainPredict"
   ]
  },
  {
   "cell_type": "code",
   "execution_count": 6,
   "metadata": {},
   "outputs": [
    {
     "name": "stdout",
     "output_type": "stream",
     "text": [
      "0.003713239904258092\n"
     ]
    }
   ],
   "source": [
    "import math\n",
    "from sklearn.metrics import mean_absolute_error\n",
    "trainScore = mean_absolute_error(train_y, trainPredict)\n",
    "print(trainScore)"
   ]
  },
  {
   "cell_type": "code",
   "execution_count": 30,
   "metadata": {},
   "outputs": [
    {
     "data": {
      "text/plain": [
       "count    489041.000000\n",
       "mean         -0.000011\n",
       "std           0.002415\n",
       "min          -0.072556\n",
       "25%          -0.001071\n",
       "50%          -0.000055\n",
       "75%           0.000964\n",
       "max           0.089280\n",
       "Name: Target, dtype: float64"
      ]
     },
     "execution_count": 30,
     "metadata": {},
     "output_type": "execute_result"
    }
   ],
   "source": [
    "btc_df_target = pd.read_hdf('Regression\\Data\\Testing\\\\testing_1_V1.h5')\n",
    "btc_df_target[\"Target\"].describe()"
   ]
  },
  {
   "cell_type": "code",
   "execution_count": 31,
   "metadata": {},
   "outputs": [],
   "source": [
    "\n",
    "# shift train predictions for plotting\n",
    "#trainPredictPlot = np.empty_like(btc_df)\n",
    "#trainPredictPlot[:, :] = np.nan\n",
    "#trainPredictPlot[16:len(trainPredict)+16, :] = trainPredict"
   ]
  },
  {
   "cell_type": "code",
   "execution_count": 32,
   "metadata": {},
   "outputs": [
    {
     "ename": "ValueError",
     "evalue": "continuous format is not supported",
     "output_type": "error",
     "traceback": [
      "\u001b[1;31m---------------------------------------------------------------------------\u001b[0m",
      "\u001b[1;31mValueError\u001b[0m                                Traceback (most recent call last)",
      "\u001b[1;32m~\\AppData\\Local\\Temp/ipykernel_11816/2549058566.py\u001b[0m in \u001b[0;36m<module>\u001b[1;34m\u001b[0m\n\u001b[1;32m----> 1\u001b[1;33m \u001b[0mfpr_keras\u001b[0m\u001b[1;33m,\u001b[0m \u001b[0mtpr_keras\u001b[0m\u001b[1;33m,\u001b[0m \u001b[0mthresholds_keras\u001b[0m \u001b[1;33m=\u001b[0m \u001b[0mroc_curve\u001b[0m\u001b[1;33m(\u001b[0m\u001b[0mtrain_y\u001b[0m\u001b[1;33m,\u001b[0m \u001b[0mtrainPredict\u001b[0m\u001b[1;33m)\u001b[0m\u001b[1;33m\u001b[0m\u001b[1;33m\u001b[0m\u001b[0m\n\u001b[0m",
      "\u001b[1;32mc:\\Users\\Armin\\Documents\\Code\\Studienarbeit\\Analyse_01\\env\\lib\\site-packages\\sklearn\\metrics\\_ranking.py\u001b[0m in \u001b[0;36mroc_curve\u001b[1;34m(y_true, y_score, pos_label, sample_weight, drop_intermediate)\u001b[0m\n\u001b[0;32m    960\u001b[0m \u001b[1;33m\u001b[0m\u001b[0m\n\u001b[0;32m    961\u001b[0m     \"\"\"\n\u001b[1;32m--> 962\u001b[1;33m     fps, tps, thresholds = _binary_clf_curve(\n\u001b[0m\u001b[0;32m    963\u001b[0m         \u001b[0my_true\u001b[0m\u001b[1;33m,\u001b[0m \u001b[0my_score\u001b[0m\u001b[1;33m,\u001b[0m \u001b[0mpos_label\u001b[0m\u001b[1;33m=\u001b[0m\u001b[0mpos_label\u001b[0m\u001b[1;33m,\u001b[0m \u001b[0msample_weight\u001b[0m\u001b[1;33m=\u001b[0m\u001b[0msample_weight\u001b[0m\u001b[1;33m\u001b[0m\u001b[1;33m\u001b[0m\u001b[0m\n\u001b[0;32m    964\u001b[0m     )\n",
      "\u001b[1;32mc:\\Users\\Armin\\Documents\\Code\\Studienarbeit\\Analyse_01\\env\\lib\\site-packages\\sklearn\\metrics\\_ranking.py\u001b[0m in \u001b[0;36m_binary_clf_curve\u001b[1;34m(y_true, y_score, pos_label, sample_weight)\u001b[0m\n\u001b[0;32m    729\u001b[0m     \u001b[0my_type\u001b[0m \u001b[1;33m=\u001b[0m \u001b[0mtype_of_target\u001b[0m\u001b[1;33m(\u001b[0m\u001b[0my_true\u001b[0m\u001b[1;33m)\u001b[0m\u001b[1;33m\u001b[0m\u001b[1;33m\u001b[0m\u001b[0m\n\u001b[0;32m    730\u001b[0m     \u001b[1;32mif\u001b[0m \u001b[1;32mnot\u001b[0m \u001b[1;33m(\u001b[0m\u001b[0my_type\u001b[0m \u001b[1;33m==\u001b[0m \u001b[1;34m\"binary\"\u001b[0m \u001b[1;32mor\u001b[0m \u001b[1;33m(\u001b[0m\u001b[0my_type\u001b[0m \u001b[1;33m==\u001b[0m \u001b[1;34m\"multiclass\"\u001b[0m \u001b[1;32mand\u001b[0m \u001b[0mpos_label\u001b[0m \u001b[1;32mis\u001b[0m \u001b[1;32mnot\u001b[0m \u001b[1;32mNone\u001b[0m\u001b[1;33m)\u001b[0m\u001b[1;33m)\u001b[0m\u001b[1;33m:\u001b[0m\u001b[1;33m\u001b[0m\u001b[1;33m\u001b[0m\u001b[0m\n\u001b[1;32m--> 731\u001b[1;33m         \u001b[1;32mraise\u001b[0m \u001b[0mValueError\u001b[0m\u001b[1;33m(\u001b[0m\u001b[1;34m\"{0} format is not supported\"\u001b[0m\u001b[1;33m.\u001b[0m\u001b[0mformat\u001b[0m\u001b[1;33m(\u001b[0m\u001b[0my_type\u001b[0m\u001b[1;33m)\u001b[0m\u001b[1;33m)\u001b[0m\u001b[1;33m\u001b[0m\u001b[1;33m\u001b[0m\u001b[0m\n\u001b[0m\u001b[0;32m    732\u001b[0m \u001b[1;33m\u001b[0m\u001b[0m\n\u001b[0;32m    733\u001b[0m     \u001b[0mcheck_consistent_length\u001b[0m\u001b[1;33m(\u001b[0m\u001b[0my_true\u001b[0m\u001b[1;33m,\u001b[0m \u001b[0my_score\u001b[0m\u001b[1;33m,\u001b[0m \u001b[0msample_weight\u001b[0m\u001b[1;33m)\u001b[0m\u001b[1;33m\u001b[0m\u001b[1;33m\u001b[0m\u001b[0m\n",
      "\u001b[1;31mValueError\u001b[0m: continuous format is not supported"
     ]
    }
   ],
   "source": [
    "fpr_keras, tpr_keras, thresholds_keras = roc_curve(train_y, trainPredict)"
   ]
  },
  {
   "cell_type": "code",
   "execution_count": null,
   "metadata": {},
   "outputs": [],
   "source": [
    "from sklearn.metrics import auc\n",
    "auc_keras = auc(fpr_keras, tpr_keras)"
   ]
  },
  {
   "cell_type": "code",
   "execution_count": null,
   "metadata": {},
   "outputs": [],
   "source": [
    "trainPredict = np.around(trainPredict)"
   ]
  },
  {
   "cell_type": "code",
   "execution_count": null,
   "metadata": {},
   "outputs": [
    {
     "data": {
      "image/png": "[encoded data removed]",
      "text/plain": [
       "<Figure size 576x396 with 1 Axes>"
      ]
     },
     "metadata": {},
     "output_type": "display_data"
    }
   ],
   "source": [
    "plt.figure(1)\n",
    "plt.plot([0, 1], [0, 1], 'k--')\n",
    "plt.plot(fpr_keras, tpr_keras, label='Keras (area = {:.3f})'.format(auc_keras))\n",
    "plt.xlabel('False positive rate')\n",
    "plt.ylabel('True positive rate')\n",
    "plt.title('ROC curve')\n",
    "plt.legend(loc='best')\n",
    "plt.show()\n"
   ]
  },
  {
   "cell_type": "code",
   "execution_count": null,
   "metadata": {},
   "outputs": [
    {
     "data": {
      "text/plain": [
       "array([[   510, 236490],\n",
       "       [   469, 251556]], dtype=int64)"
      ]
     },
     "execution_count": 69,
     "metadata": {},
     "output_type": "execute_result"
    }
   ],
   "source": [
    "confusion_matrix(train_y,trainPredict)"
   ]
  },
  {
   "cell_type": "code",
   "execution_count": 18,
   "metadata": {},
   "outputs": [
    {
     "data": {
      "image/png": "[encoded data removed]",
      "text/plain": [
       "<Figure size 576x396 with 1 Axes>"
      ]
     },
     "metadata": {},
     "output_type": "display_data"
    }
   ],
   "source": [
    "\n",
    "plt.plot(trainPredict,label=\"Prediction\")\n",
    "plt.plot(train_y,alpha=0.5,label=\"Target\")\n",
    "plt.legend (loc=\"upper left\")\n",
    "plt.ylabel(\"Änderung in %\")\n",
    "plt.show()"
   ]
  },
  {
   "cell_type": "code",
   "execution_count": null,
   "metadata": {},
   "outputs": [
    {
     "data": {
      "text/plain": [
       "[<matplotlib.lines.Line2D at 0x23221f0c1f0>]"
      ]
     },
     "execution_count": 18,
     "metadata": {},
     "output_type": "execute_result"
    },
    {
     "data": {
      "image/png": "[encoded data removed]",
      "text/plain": [
       "<Figure size 576x396 with 1 Axes>"
      ]
     },
     "metadata": {},
     "output_type": "display_data"
    }
   ],
   "source": [
    "plt.plot(train_y)"
   ]
  },
  {
   "cell_type": "code",
   "execution_count": null,
   "metadata": {},
   "outputs": [],
   "source": [
    "diff = len(btc_df) - len(trainPredict)"
   ]
  },
  {
   "cell_type": "code",
   "execution_count": null,
   "metadata": {},
   "outputs": [
    {
     "data": {
      "text/plain": [
       "16"
      ]
     },
     "execution_count": 17,
     "metadata": {},
     "output_type": "execute_result"
    }
   ],
   "source": [
    "diff\n"
   ]
  },
  {
   "cell_type": "code",
   "execution_count": null,
   "metadata": {},
   "outputs": [
    {
     "data": {
      "text/html": [
       "<div>\n",
       "<style scoped>\n",
       "    .dataframe tbody tr th:only-of-type {\n",
       "        vertical-align: middle;\n",
       "    }\n",
       "\n",
       "    .dataframe tbody tr th {\n",
       "        vertical-align: top;\n",
       "    }\n",
       "\n",
       "    .dataframe thead th {\n",
       "        text-align: right;\n",
       "    }\n",
       "</style>\n",
       "<table border=\"1\" class=\"dataframe\">\n",
       "  <thead>\n",
       "    <tr style=\"text-align: right;\">\n",
       "      <th></th>\n",
       "      <th>Count</th>\n",
       "      <th>Volume</th>\n",
       "      <th>mean_trade</th>\n",
       "      <th>upper_Shadow</th>\n",
       "      <th>lower_Shadow</th>\n",
       "      <th>shadow3</th>\n",
       "      <th>shadow5</th>\n",
       "      <th>mean1</th>\n",
       "      <th>UPS</th>\n",
       "      <th>LOS</th>\n",
       "      <th>...</th>\n",
       "      <th>Log_Open</th>\n",
       "      <th>Log_Low</th>\n",
       "      <th>Log_Close</th>\n",
       "      <th>Minute</th>\n",
       "      <th>Day</th>\n",
       "      <th>Month</th>\n",
       "      <th>Year</th>\n",
       "      <th>DayOfWeek</th>\n",
       "      <th>minute_seasonal</th>\n",
       "      <th>correlation_log_perf</th>\n",
       "    </tr>\n",
       "  </thead>\n",
       "  <tbody>\n",
       "    <tr>\n",
       "      <th>16</th>\n",
       "      <td>759.0</td>\n",
       "      <td>110.680245</td>\n",
       "      <td>0.145824</td>\n",
       "      <td>8.271808</td>\n",
       "      <td>10.270777</td>\n",
       "      <td>0.074736</td>\n",
       "      <td>0.092797</td>\n",
       "      <td>0.083766</td>\n",
       "      <td>8.271808</td>\n",
       "      <td>10.270777</td>\n",
       "      <td>...</td>\n",
       "      <td>0.000108</td>\n",
       "      <td>-0.000325</td>\n",
       "      <td>-0.079113</td>\n",
       "      <td>54</td>\n",
       "      <td>16</td>\n",
       "      <td>10</td>\n",
       "      <td>2020</td>\n",
       "      <td>4</td>\n",
       "      <td>0.005287</td>\n",
       "      <td>0.063516</td>\n",
       "    </tr>\n",
       "    <tr>\n",
       "      <th>17</th>\n",
       "      <td>738.0</td>\n",
       "      <td>67.854333</td>\n",
       "      <td>0.091944</td>\n",
       "      <td>9.445329</td>\n",
       "      <td>6.438952</td>\n",
       "      <td>0.139200</td>\n",
       "      <td>0.094894</td>\n",
       "      <td>0.117047</td>\n",
       "      <td>9.445329</td>\n",
       "      <td>6.438952</td>\n",
       "      <td>...</td>\n",
       "      <td>-0.000142</td>\n",
       "      <td>0.000326</td>\n",
       "      <td>0.027309</td>\n",
       "      <td>55</td>\n",
       "      <td>16</td>\n",
       "      <td>10</td>\n",
       "      <td>2020</td>\n",
       "      <td>4</td>\n",
       "      <td>0.000490</td>\n",
       "      <td>0.125450</td>\n",
       "    </tr>\n",
       "    <tr>\n",
       "      <th>18</th>\n",
       "      <td>1001.0</td>\n",
       "      <td>159.819220</td>\n",
       "      <td>0.159660</td>\n",
       "      <td>11.913815</td>\n",
       "      <td>6.357528</td>\n",
       "      <td>0.074546</td>\n",
       "      <td>0.039779</td>\n",
       "      <td>0.057163</td>\n",
       "      <td>11.913815</td>\n",
       "      <td>6.357528</td>\n",
       "      <td>...</td>\n",
       "      <td>0.000039</td>\n",
       "      <td>0.000046</td>\n",
       "      <td>0.102264</td>\n",
       "      <td>56</td>\n",
       "      <td>16</td>\n",
       "      <td>10</td>\n",
       "      <td>2020</td>\n",
       "      <td>4</td>\n",
       "      <td>0.002947</td>\n",
       "      <td>-0.073290</td>\n",
       "    </tr>\n",
       "    <tr>\n",
       "      <th>19</th>\n",
       "      <td>574.0</td>\n",
       "      <td>43.925532</td>\n",
       "      <td>0.076525</td>\n",
       "      <td>8.678333</td>\n",
       "      <td>5.978333</td>\n",
       "      <td>0.197569</td>\n",
       "      <td>0.136102</td>\n",
       "      <td>0.166835</td>\n",
       "      <td>8.678333</td>\n",
       "      <td>5.978333</td>\n",
       "      <td>...</td>\n",
       "      <td>-0.000014</td>\n",
       "      <td>0.000019</td>\n",
       "      <td>-0.047705</td>\n",
       "      <td>57</td>\n",
       "      <td>16</td>\n",
       "      <td>10</td>\n",
       "      <td>2020</td>\n",
       "      <td>4</td>\n",
       "      <td>0.008071</td>\n",
       "      <td>-0.017575</td>\n",
       "    </tr>\n",
       "    <tr>\n",
       "      <th>20</th>\n",
       "      <td>662.0</td>\n",
       "      <td>61.765683</td>\n",
       "      <td>0.093302</td>\n",
       "      <td>9.360000</td>\n",
       "      <td>7.411667</td>\n",
       "      <td>0.151540</td>\n",
       "      <td>0.119997</td>\n",
       "      <td>0.135768</td>\n",
       "      <td>9.360000</td>\n",
       "      <td>7.411667</td>\n",
       "      <td>...</td>\n",
       "      <td>0.000020</td>\n",
       "      <td>-0.000207</td>\n",
       "      <td>-0.139441</td>\n",
       "      <td>58</td>\n",
       "      <td>16</td>\n",
       "      <td>10</td>\n",
       "      <td>2020</td>\n",
       "      <td>4</td>\n",
       "      <td>0.000428</td>\n",
       "      <td>0.025037</td>\n",
       "    </tr>\n",
       "    <tr>\n",
       "      <th>...</th>\n",
       "      <td>...</td>\n",
       "      <td>...</td>\n",
       "      <td>...</td>\n",
       "      <td>...</td>\n",
       "      <td>...</td>\n",
       "      <td>...</td>\n",
       "      <td>...</td>\n",
       "      <td>...</td>\n",
       "      <td>...</td>\n",
       "      <td>...</td>\n",
       "      <td>...</td>\n",
       "      <td>...</td>\n",
       "      <td>...</td>\n",
       "      <td>...</td>\n",
       "      <td>...</td>\n",
       "      <td>...</td>\n",
       "      <td>...</td>\n",
       "      <td>...</td>\n",
       "      <td>...</td>\n",
       "      <td>...</td>\n",
       "      <td>...</td>\n",
       "    </tr>\n",
       "    <tr>\n",
       "      <th>489036</th>\n",
       "      <td>5680.0</td>\n",
       "      <td>226.506712</td>\n",
       "      <td>0.039878</td>\n",
       "      <td>57.445000</td>\n",
       "      <td>47.880000</td>\n",
       "      <td>0.253613</td>\n",
       "      <td>0.211384</td>\n",
       "      <td>0.232499</td>\n",
       "      <td>57.445000</td>\n",
       "      <td>47.880000</td>\n",
       "      <td>...</td>\n",
       "      <td>-0.002507</td>\n",
       "      <td>0.000018</td>\n",
       "      <td>1.526214</td>\n",
       "      <td>26</td>\n",
       "      <td>20</td>\n",
       "      <td>9</td>\n",
       "      <td>2021</td>\n",
       "      <td>0</td>\n",
       "      <td>-0.002125</td>\n",
       "      <td>-0.076843</td>\n",
       "    </tr>\n",
       "    <tr>\n",
       "      <th>489037</th>\n",
       "      <td>4344.0</td>\n",
       "      <td>203.675225</td>\n",
       "      <td>0.046887</td>\n",
       "      <td>31.290000</td>\n",
       "      <td>115.032500</td>\n",
       "      <td>0.153627</td>\n",
       "      <td>0.564784</td>\n",
       "      <td>0.359205</td>\n",
       "      <td>31.290000</td>\n",
       "      <td>115.032500</td>\n",
       "      <td>...</td>\n",
       "      <td>0.001369</td>\n",
       "      <td>-0.000203</td>\n",
       "      <td>0.015311</td>\n",
       "      <td>27</td>\n",
       "      <td>20</td>\n",
       "      <td>9</td>\n",
       "      <td>2021</td>\n",
       "      <td>0</td>\n",
       "      <td>-0.001305</td>\n",
       "      <td>0.036299</td>\n",
       "    </tr>\n",
       "    <tr>\n",
       "      <th>489038</th>\n",
       "      <td>5009.0</td>\n",
       "      <td>200.178351</td>\n",
       "      <td>0.039964</td>\n",
       "      <td>76.268750</td>\n",
       "      <td>27.646250</td>\n",
       "      <td>0.381004</td>\n",
       "      <td>0.138108</td>\n",
       "      <td>0.259556</td>\n",
       "      <td>76.268750</td>\n",
       "      <td>27.646250</td>\n",
       "      <td>...</td>\n",
       "      <td>0.000217</td>\n",
       "      <td>0.000502</td>\n",
       "      <td>-1.518654</td>\n",
       "      <td>28</td>\n",
       "      <td>20</td>\n",
       "      <td>9</td>\n",
       "      <td>2021</td>\n",
       "      <td>0</td>\n",
       "      <td>0.001300</td>\n",
       "      <td>-0.040182</td>\n",
       "    </tr>\n",
       "    <tr>\n",
       "      <th>489039</th>\n",
       "      <td>3160.0</td>\n",
       "      <td>120.113063</td>\n",
       "      <td>0.038010</td>\n",
       "      <td>25.407143</td>\n",
       "      <td>19.582416</td>\n",
       "      <td>0.211527</td>\n",
       "      <td>0.163033</td>\n",
       "      <td>0.187280</td>\n",
       "      <td>25.407143</td>\n",
       "      <td>19.582416</td>\n",
       "      <td>...</td>\n",
       "      <td>-0.001899</td>\n",
       "      <td>-0.000769</td>\n",
       "      <td>-0.784262</td>\n",
       "      <td>29</td>\n",
       "      <td>20</td>\n",
       "      <td>9</td>\n",
       "      <td>2021</td>\n",
       "      <td>0</td>\n",
       "      <td>0.004813</td>\n",
       "      <td>0.023430</td>\n",
       "    </tr>\n",
       "    <tr>\n",
       "      <th>489040</th>\n",
       "      <td>6167.0</td>\n",
       "      <td>267.308816</td>\n",
       "      <td>0.043345</td>\n",
       "      <td>103.382500</td>\n",
       "      <td>25.396250</td>\n",
       "      <td>0.386753</td>\n",
       "      <td>0.095007</td>\n",
       "      <td>0.240880</td>\n",
       "      <td>103.382500</td>\n",
       "      <td>25.396250</td>\n",
       "      <td>...</td>\n",
       "      <td>-0.000442</td>\n",
       "      <td>-0.001526</td>\n",
       "      <td>-1.137025</td>\n",
       "      <td>30</td>\n",
       "      <td>20</td>\n",
       "      <td>9</td>\n",
       "      <td>2021</td>\n",
       "      <td>0</td>\n",
       "      <td>0.008659</td>\n",
       "      <td>0.057720</td>\n",
       "    </tr>\n",
       "  </tbody>\n",
       "</table>\n",
       "<p>489025 rows × 36 columns</p>\n",
       "</div>"
      ],
      "text/plain": [
       "         Count      Volume  mean_trade  upper_Shadow  lower_Shadow   shadow3  \\\n",
       "16       759.0  110.680245    0.145824      8.271808     10.270777  0.074736   \n",
       "17       738.0   67.854333    0.091944      9.445329      6.438952  0.139200   \n",
       "18      1001.0  159.819220    0.159660     11.913815      6.357528  0.074546   \n",
       "19       574.0   43.925532    0.076525      8.678333      5.978333  0.197569   \n",
       "20       662.0   61.765683    0.093302      9.360000      7.411667  0.151540   \n",
       "...        ...         ...         ...           ...           ...       ...   \n",
       "489036  5680.0  226.506712    0.039878     57.445000     47.880000  0.253613   \n",
       "489037  4344.0  203.675225    0.046887     31.290000    115.032500  0.153627   \n",
       "489038  5009.0  200.178351    0.039964     76.268750     27.646250  0.381004   \n",
       "489039  3160.0  120.113063    0.038010     25.407143     19.582416  0.211527   \n",
       "489040  6167.0  267.308816    0.043345    103.382500     25.396250  0.386753   \n",
       "\n",
       "         shadow5     mean1         UPS         LOS  ...  Log_Open   Log_Low  \\\n",
       "16      0.092797  0.083766    8.271808   10.270777  ...  0.000108 -0.000325   \n",
       "17      0.094894  0.117047    9.445329    6.438952  ... -0.000142  0.000326   \n",
       "18      0.039779  0.057163   11.913815    6.357528  ...  0.000039  0.000046   \n",
       "19      0.136102  0.166835    8.678333    5.978333  ... -0.000014  0.000019   \n",
       "20      0.119997  0.135768    9.360000    7.411667  ...  0.000020 -0.000207   \n",
       "...          ...       ...         ...         ...  ...       ...       ...   \n",
       "489036  0.211384  0.232499   57.445000   47.880000  ... -0.002507  0.000018   \n",
       "489037  0.564784  0.359205   31.290000  115.032500  ...  0.001369 -0.000203   \n",
       "489038  0.138108  0.259556   76.268750   27.646250  ...  0.000217  0.000502   \n",
       "489039  0.163033  0.187280   25.407143   19.582416  ... -0.001899 -0.000769   \n",
       "489040  0.095007  0.240880  103.382500   25.396250  ... -0.000442 -0.001526   \n",
       "\n",
       "        Log_Close  Minute  Day  Month  Year  DayOfWeek  minute_seasonal  \\\n",
       "16      -0.079113      54   16     10  2020          4         0.005287   \n",
       "17       0.027309      55   16     10  2020          4         0.000490   \n",
       "18       0.102264      56   16     10  2020          4         0.002947   \n",
       "19      -0.047705      57   16     10  2020          4         0.008071   \n",
       "20      -0.139441      58   16     10  2020          4         0.000428   \n",
       "...           ...     ...  ...    ...   ...        ...              ...   \n",
       "489036   1.526214      26   20      9  2021          0        -0.002125   \n",
       "489037   0.015311      27   20      9  2021          0        -0.001305   \n",
       "489038  -1.518654      28   20      9  2021          0         0.001300   \n",
       "489039  -0.784262      29   20      9  2021          0         0.004813   \n",
       "489040  -1.137025      30   20      9  2021          0         0.008659   \n",
       "\n",
       "        correlation_log_perf  \n",
       "16                  0.063516  \n",
       "17                  0.125450  \n",
       "18                 -0.073290  \n",
       "19                 -0.017575  \n",
       "20                  0.025037  \n",
       "...                      ...  \n",
       "489036             -0.076843  \n",
       "489037              0.036299  \n",
       "489038             -0.040182  \n",
       "489039              0.023430  \n",
       "489040              0.057720  \n",
       "\n",
       "[489025 rows x 36 columns]"
      ]
     },
     "execution_count": 18,
     "metadata": {},
     "output_type": "execute_result"
    }
   ],
   "source": [
    "(btc_df.iloc[diff:,])"
   ]
  },
  {
   "cell_type": "code",
   "execution_count": null,
   "metadata": {},
   "outputs": [],
   "source": []
  }
 ],
 "metadata": {
  "interpreter": {
   "hash": "4ad1efb602d1a4dfb21b20aa539ee8e1a85436a96afd9123b8553acffba50137"
  },
  "kernelspec": {
   "display_name": "Python 3.8.6 ('env': venv)",
   "language": "python",
   "name": "python3"
  },
  "language_info": {
   "codemirror_mode": {
    "name": "ipython",
    "version": 3
   },
   "file_extension": ".py",
   "mimetype": "text/x-python",
   "name": "python",
   "nbconvert_exporter": "python",
   "pygments_lexer": "ipython3",
   "version": "3.8.6"
  },
  "orig_nbformat": 4
 },
 "nbformat": 4,
 "nbformat_minor": 2
}
