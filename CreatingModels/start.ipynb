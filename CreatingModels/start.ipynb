{
 "cells": [
  {
   "cell_type": "markdown",
   "metadata": {},
   "source": [
    "# Analys Zeitreihen\n",
    "## Daten laden"
   ]
  },
  {
   "cell_type": "code",
   "execution_count": 224,
   "metadata": {},
   "outputs": [],
   "source": [
    "import pandas as pd\n",
    "import numpy as np\n",
    "import matplotlib.pyplot as plt\n",
    "from sklearn.preprocessing import StandardScaler\n",
    "%matplotlib inline  \n",
    "#plt.rcParams['figure.figsize'] = [15, 10]\n",
    "plt.style.use('seaborn')\n"
   ]
  },
  {
   "cell_type": "code",
   "execution_count": 225,
   "metadata": {},
   "outputs": [
    {
     "data": {
      "text/html": [
       "<div>\n",
       "<style scoped>\n",
       "    .dataframe tbody tr th:only-of-type {\n",
       "        vertical-align: middle;\n",
       "    }\n",
       "\n",
       "    .dataframe tbody tr th {\n",
       "        vertical-align: top;\n",
       "    }\n",
       "\n",
       "    .dataframe thead th {\n",
       "        text-align: right;\n",
       "    }\n",
       "</style>\n",
       "<table border=\"1\" class=\"dataframe\">\n",
       "  <thead>\n",
       "    <tr style=\"text-align: right;\">\n",
       "      <th></th>\n",
       "      <th>index</th>\n",
       "      <th>timestamp</th>\n",
       "      <th>Asset_ID</th>\n",
       "      <th>Count</th>\n",
       "      <th>Open</th>\n",
       "      <th>High</th>\n",
       "      <th>Low</th>\n",
       "      <th>Close</th>\n",
       "      <th>Volume</th>\n",
       "      <th>VWAP</th>\n",
       "      <th>Target</th>\n",
       "    </tr>\n",
       "  </thead>\n",
       "  <tbody>\n",
       "    <tr>\n",
       "      <th>0</th>\n",
       "      <td>1</td>\n",
       "      <td>1514764860</td>\n",
       "      <td>0</td>\n",
       "      <td>5.0</td>\n",
       "      <td>8.5300</td>\n",
       "      <td>8.5300</td>\n",
       "      <td>8.5300</td>\n",
       "      <td>8.5300</td>\n",
       "      <td>78.38</td>\n",
       "      <td>8.530000</td>\n",
       "      <td>-0.014399</td>\n",
       "    </tr>\n",
       "    <tr>\n",
       "      <th>1</th>\n",
       "      <td>9</td>\n",
       "      <td>1514764920</td>\n",
       "      <td>0</td>\n",
       "      <td>7.0</td>\n",
       "      <td>8.5300</td>\n",
       "      <td>8.5300</td>\n",
       "      <td>8.5145</td>\n",
       "      <td>8.5145</td>\n",
       "      <td>71.39</td>\n",
       "      <td>8.520215</td>\n",
       "      <td>-0.015875</td>\n",
       "    </tr>\n",
       "    <tr>\n",
       "      <th>2</th>\n",
       "      <td>17</td>\n",
       "      <td>1514764980</td>\n",
       "      <td>0</td>\n",
       "      <td>45.0</td>\n",
       "      <td>8.5065</td>\n",
       "      <td>8.5299</td>\n",
       "      <td>8.4848</td>\n",
       "      <td>8.4848</td>\n",
       "      <td>1546.82</td>\n",
       "      <td>8.501394</td>\n",
       "      <td>-0.015410</td>\n",
       "    </tr>\n",
       "    <tr>\n",
       "      <th>3</th>\n",
       "      <td>25</td>\n",
       "      <td>1514765040</td>\n",
       "      <td>0</td>\n",
       "      <td>14.0</td>\n",
       "      <td>8.5009</td>\n",
       "      <td>8.5066</td>\n",
       "      <td>8.4744</td>\n",
       "      <td>8.5009</td>\n",
       "      <td>125.80</td>\n",
       "      <td>8.479810</td>\n",
       "      <td>-0.012524</td>\n",
       "    </tr>\n",
       "    <tr>\n",
       "      <th>4</th>\n",
       "      <td>33</td>\n",
       "      <td>1514765100</td>\n",
       "      <td>0</td>\n",
       "      <td>5.0</td>\n",
       "      <td>8.5007</td>\n",
       "      <td>8.5007</td>\n",
       "      <td>8.4560</td>\n",
       "      <td>8.4560</td>\n",
       "      <td>125.01</td>\n",
       "      <td>8.458435</td>\n",
       "      <td>-0.005940</td>\n",
       "    </tr>\n",
       "  </tbody>\n",
       "</table>\n",
       "</div>"
      ],
      "text/plain": [
       "   index   timestamp  Asset_ID  Count    Open    High     Low   Close  \\\n",
       "0      1  1514764860         0    5.0  8.5300  8.5300  8.5300  8.5300   \n",
       "1      9  1514764920         0    7.0  8.5300  8.5300  8.5145  8.5145   \n",
       "2     17  1514764980         0   45.0  8.5065  8.5299  8.4848  8.4848   \n",
       "3     25  1514765040         0   14.0  8.5009  8.5066  8.4744  8.5009   \n",
       "4     33  1514765100         0    5.0  8.5007  8.5007  8.4560  8.4560   \n",
       "\n",
       "    Volume      VWAP    Target  \n",
       "0    78.38  8.530000 -0.014399  \n",
       "1    71.39  8.520215 -0.015875  \n",
       "2  1546.82  8.501394 -0.015410  \n",
       "3   125.80  8.479810 -0.012524  \n",
       "4   125.01  8.458435 -0.005940  "
      ]
     },
     "execution_count": 225,
     "metadata": {},
     "output_type": "execute_result"
    }
   ],
   "source": [
    "data_path = r\"C:\\\\Users\\\\Armin\\\\Documents\\\\Code\\\\Studienarbeit\\\\crypto_daten_kaggle\\\\\"\n",
    "crypto_df = pd.read_hdf('train.h5')\n",
    "crypto_df.head(5)"
   ]
  },
  {
   "cell_type": "markdown",
   "metadata": {},
   "source": [
    "### Colum definitions\n",
    "timestamp - A timestamp for the minute covered by the row. <br>\n",
    "Asset_ID - An ID code for the cryptoasset. <br>\n",
    "Count - The number of trades that took place this minute. <br>\n",
    "Open - The USD price at the beginning of the minute. <br>\n",
    "High - The highest USD price during the minute. <br>\n",
    "Low - The lowest USD price during the minute. <br>\n",
    "Close - The USD price at the end of the minute. <br>\n",
    "Volume - The number of cryptoasset units traded during the minute. <br>\n",
    "VWAP - The volume weighted average price for the minute. <br>\n",
    "Target - 15 minute residualized returns. See the 'Prediction and Evaluation' section of this notebook for details of how the target is calculated. <br>"
   ]
  },
  {
   "cell_type": "code",
   "execution_count": 226,
   "metadata": {},
   "outputs": [
    {
     "data": {
      "text/html": [
       "<div>\n",
       "<style scoped>\n",
       "    .dataframe tbody tr th:only-of-type {\n",
       "        vertical-align: middle;\n",
       "    }\n",
       "\n",
       "    .dataframe tbody tr th {\n",
       "        vertical-align: top;\n",
       "    }\n",
       "\n",
       "    .dataframe thead th {\n",
       "        text-align: right;\n",
       "    }\n",
       "</style>\n",
       "<table border=\"1\" class=\"dataframe\">\n",
       "  <thead>\n",
       "    <tr style=\"text-align: right;\">\n",
       "      <th></th>\n",
       "      <th>Asset_ID</th>\n",
       "      <th>Weight</th>\n",
       "      <th>Asset_Name</th>\n",
       "    </tr>\n",
       "  </thead>\n",
       "  <tbody>\n",
       "    <tr>\n",
       "      <th>0</th>\n",
       "      <td>2</td>\n",
       "      <td>2.397895</td>\n",
       "      <td>Bitcoin Cash</td>\n",
       "    </tr>\n",
       "    <tr>\n",
       "      <th>1</th>\n",
       "      <td>0</td>\n",
       "      <td>4.304065</td>\n",
       "      <td>Binance Coin</td>\n",
       "    </tr>\n",
       "    <tr>\n",
       "      <th>2</th>\n",
       "      <td>1</td>\n",
       "      <td>6.779922</td>\n",
       "      <td>Bitcoin</td>\n",
       "    </tr>\n",
       "    <tr>\n",
       "      <th>3</th>\n",
       "      <td>5</td>\n",
       "      <td>1.386294</td>\n",
       "      <td>EOS.IO</td>\n",
       "    </tr>\n",
       "    <tr>\n",
       "      <th>4</th>\n",
       "      <td>7</td>\n",
       "      <td>2.079442</td>\n",
       "      <td>Ethereum Classic</td>\n",
       "    </tr>\n",
       "    <tr>\n",
       "      <th>5</th>\n",
       "      <td>6</td>\n",
       "      <td>5.894403</td>\n",
       "      <td>Ethereum</td>\n",
       "    </tr>\n",
       "    <tr>\n",
       "      <th>6</th>\n",
       "      <td>9</td>\n",
       "      <td>2.397895</td>\n",
       "      <td>Litecoin</td>\n",
       "    </tr>\n",
       "    <tr>\n",
       "      <th>7</th>\n",
       "      <td>11</td>\n",
       "      <td>1.609438</td>\n",
       "      <td>Monero</td>\n",
       "    </tr>\n",
       "    <tr>\n",
       "      <th>8</th>\n",
       "      <td>13</td>\n",
       "      <td>1.791759</td>\n",
       "      <td>TRON</td>\n",
       "    </tr>\n",
       "    <tr>\n",
       "      <th>9</th>\n",
       "      <td>12</td>\n",
       "      <td>2.079442</td>\n",
       "      <td>Stellar</td>\n",
       "    </tr>\n",
       "    <tr>\n",
       "      <th>10</th>\n",
       "      <td>3</td>\n",
       "      <td>4.406719</td>\n",
       "      <td>Cardano</td>\n",
       "    </tr>\n",
       "    <tr>\n",
       "      <th>11</th>\n",
       "      <td>8</td>\n",
       "      <td>1.098612</td>\n",
       "      <td>IOTA</td>\n",
       "    </tr>\n",
       "    <tr>\n",
       "      <th>12</th>\n",
       "      <td>10</td>\n",
       "      <td>1.098612</td>\n",
       "      <td>Maker</td>\n",
       "    </tr>\n",
       "    <tr>\n",
       "      <th>13</th>\n",
       "      <td>4</td>\n",
       "      <td>3.555348</td>\n",
       "      <td>Dogecoin</td>\n",
       "    </tr>\n",
       "  </tbody>\n",
       "</table>\n",
       "</div>"
      ],
      "text/plain": [
       "    Asset_ID    Weight        Asset_Name\n",
       "0          2  2.397895      Bitcoin Cash\n",
       "1          0  4.304065      Binance Coin\n",
       "2          1  6.779922           Bitcoin\n",
       "3          5  1.386294            EOS.IO\n",
       "4          7  2.079442  Ethereum Classic\n",
       "5          6  5.894403          Ethereum\n",
       "6          9  2.397895          Litecoin\n",
       "7         11  1.609438            Monero\n",
       "8         13  1.791759              TRON\n",
       "9         12  2.079442           Stellar\n",
       "10         3  4.406719           Cardano\n",
       "11         8  1.098612              IOTA\n",
       "12        10  1.098612             Maker\n",
       "13         4  3.555348          Dogecoin"
      ]
     },
     "execution_count": 226,
     "metadata": {},
     "output_type": "execute_result"
    }
   ],
   "source": [
    "asset_details = pd.read_csv(data_path + 'asset_details.csv')\n",
    "asset_details"
   ]
  },
  {
   "cell_type": "code",
   "execution_count": 227,
   "metadata": {},
   "outputs": [
    {
     "data": {
      "text/plain": [
       "index        0\n",
       "timestamp    0\n",
       "Asset_ID     0\n",
       "Count        0\n",
       "Open         0\n",
       "High         0\n",
       "Low          0\n",
       "Close        0\n",
       "Volume       0\n",
       "VWAP         9\n",
       "Target       0\n",
       "dtype: int64"
      ]
     },
     "execution_count": 227,
     "metadata": {},
     "output_type": "execute_result"
    }
   ],
   "source": [
    "crypto_df.isna().sum()"
   ]
  },
  {
   "cell_type": "markdown",
   "metadata": {},
   "source": [
    "--> 3 NaN - Problems"
   ]
  },
  {
   "cell_type": "code",
   "execution_count": 228,
   "metadata": {},
   "outputs": [
    {
     "data": {
      "image/png": "[encoded data removed]",
      "text/plain": [
       "<Figure size 576x396 with 12 Axes>"
      ]
     },
     "metadata": {},
     "output_type": "display_data"
    }
   ],
   "source": [
    "btc = crypto_df[crypto_df[\"Asset_ID\"]==1].set_index(\"timestamp\")\n",
    "hist = btc.hist()"
   ]
  },
  {
   "cell_type": "code",
   "execution_count": 229,
   "metadata": {},
   "outputs": [
    {
     "name": "stdout",
     "output_type": "stream",
     "text": [
      "BTC data goes from  2018-01-01T00:01:00 to  2021-09-21T00:00:00\n"
     ]
    }
   ],
   "source": [
    "beg_btc = btc.index[0].astype('datetime64[s]')\n",
    "end_btc = btc.index[-1].astype('datetime64[s]')\n",
    "\n",
    "\n",
    "print('BTC data goes from ', beg_btc, 'to ', end_btc)"
   ]
  },
  {
   "cell_type": "code",
   "execution_count": 230,
   "metadata": {},
   "outputs": [
    {
     "name": "stdout",
     "output_type": "stream",
     "text": [
      "778\n"
     ]
    },
    {
     "data": {
      "image/png": "[encoded data removed]",
      "text/plain": [
       "<Figure size 576x396 with 1 Axes>"
      ]
     },
     "metadata": {},
     "output_type": "display_data"
    }
   ],
   "source": [
    "btc_target = btc[\"Target\"].round(4)\n",
    "print(btc_target.unique().size)\n",
    "ax = btc_target.plot.hist(bins=100)"
   ]
  },
  {
   "cell_type": "code",
   "execution_count": 231,
   "metadata": {},
   "outputs": [],
   "source": [
    "btc_target_plus = []\n",
    "btc_target_minus = []\n",
    "for index,value in btc_target.items():\n",
    "    if value < 0:\n",
    "        btc_target_minus.append(value)\n",
    "    elif value > 0:\n",
    "        btc_target_plus.append(value)\n",
    "btc_target_plus = np.array(btc_target_plus)\n",
    "btc_target_minus = np.array(btc_target_minus)\n"
   ]
  },
  {
   "cell_type": "code",
   "execution_count": 232,
   "metadata": {},
   "outputs": [
    {
     "name": "stdout",
     "output_type": "stream",
     "text": [
      "[0.004  0.0032 0.0059 ... 0.0024 0.0033 0.0041]\n"
     ]
    }
   ],
   "source": [
    "print(btc_target_plus)"
   ]
  },
  {
   "cell_type": "code",
   "execution_count": 233,
   "metadata": {},
   "outputs": [
    {
     "data": {
      "image/png": "[encoded data removed]",
      "text/plain": [
       "<Figure size 576x396 with 1 Axes>"
      ]
     },
     "metadata": {},
     "output_type": "display_data"
    }
   ],
   "source": [
    "plt.hist(btc_target_plus,bins=np.unique(btc_target_plus))\n",
    "plt.show()"
   ]
  },
  {
   "cell_type": "code",
   "execution_count": 234,
   "metadata": {},
   "outputs": [
    {
     "data": {
      "image/png": "[encoded data removed]",
      "text/plain": [
       "<Figure size 576x396 with 1 Axes>"
      ]
     },
     "metadata": {},
     "output_type": "display_data"
    }
   ],
   "source": [
    "plt.hist(btc_target_minus,bins=np.unique(btc_target_minus))\n",
    "plt.show()"
   ]
  },
  {
   "cell_type": "markdown",
   "metadata": {},
   "source": [
    "## Plus Target"
   ]
  },
  {
   "cell_type": "code",
   "execution_count": 235,
   "metadata": {},
   "outputs": [
    {
     "name": "stdout",
     "output_type": "stream",
     "text": [
      "Durschnitt\n",
      "0.13%\n",
      "Median\n",
      "0.08%\n",
      "Standardabweichung\n",
      "0.1705481963180124\n"
     ]
    }
   ],
   "source": [
    "print(\"Durschnitt\")\n",
    "print(str(round(btc_target_plus.mean() * 100,2 ))+ \"%\")\n",
    "print(\"Median\")\n",
    "print(str(round(np.median(btc_target_plus) * 100,2 ))+ \"%\")\n",
    "print(\"Standardabweichung\")\n",
    "print(btc_target_plus.std()*100)\n"
   ]
  },
  {
   "cell_type": "markdown",
   "metadata": {},
   "source": [
    "## Minus Target"
   ]
  },
  {
   "cell_type": "code",
   "execution_count": 236,
   "metadata": {},
   "outputs": [
    {
     "name": "stdout",
     "output_type": "stream",
     "text": [
      "Durschnitt\n",
      "-0.13%\n",
      "Median\n",
      "-0.08%\n",
      "Standardabweichung\n",
      "0.14974257018841752\n"
     ]
    }
   ],
   "source": [
    "print(\"Durschnitt\")\n",
    "print(str(round(btc_target_minus.mean() * 100,2 ))+ \"%\")\n",
    "print(\"Median\")\n",
    "print(str(round(np.median(btc_target_minus) * 100,2 ))+ \"%\")\n",
    "print(\"Standardabweichung\")\n",
    "print(btc_target_minus.std()*100)\n"
   ]
  },
  {
   "cell_type": "markdown",
   "metadata": {},
   "source": [
    "Durschnitt und Median gleich Standardabweichung unterschiedlich -> breitere Verteilung bei Plus"
   ]
  },
  {
   "cell_type": "code",
   "execution_count": 237,
   "metadata": {},
   "outputs": [
    {
     "data": {
      "text/plain": [
       "0"
      ]
     },
     "execution_count": 237,
     "metadata": {},
     "output_type": "execute_result"
    }
   ],
   "source": [
    "btc[\"Target\"].isna().sum()"
   ]
  },
  {
   "cell_type": "markdown",
   "metadata": {},
   "source": [
    "# Klassifikator Umsetzung\n",
    "2 Einheiten. 1 Einheitet prädiziert ob Klassifikator steigt anderer um wie viel. Klassifikationsproblem anstatt Regressionsproblem -> einfachrere Umsetzung.\n",
    "## Klassifikator Datenvorbereitung\n",
    "Klassifikator Label: <br>\n",
    "    - Sell - 1 oder Buy - 0 <br>\n",
    "    - Buy, Sell oder Hold \n",
    "\n"
   ]
  },
  {
   "cell_type": "code",
   "execution_count": 238,
   "metadata": {},
   "outputs": [],
   "source": [
    "btc_target_label = []"
   ]
  },
  {
   "cell_type": "code",
   "execution_count": 239,
   "metadata": {},
   "outputs": [],
   "source": [
    "for index,value in btc[\"Target\"].items():\n",
    "    if value < 0:\n",
    "        btc_target_label.append(1)\n",
    "    elif value > 0:\n",
    "        btc_target_label.append(0)\n",
    "    else:\n",
    "        btc_target_label.append(0)"
   ]
  },
  {
   "cell_type": "code",
   "execution_count": 240,
   "metadata": {},
   "outputs": [
    {
     "data": {
      "image/png": "[encoded data removed]",
      "text/plain": [
       "<Figure size 576x396 with 1 Axes>"
      ]
     },
     "metadata": {},
     "output_type": "display_data"
    }
   ],
   "source": [
    "plt.hist(btc_target_label,bins=len(set(btc_target_label)))\n",
    "plt.show()"
   ]
  },
  {
   "cell_type": "code",
   "execution_count": 241,
   "metadata": {},
   "outputs": [],
   "source": [
    "from tensorflow import keras\n",
    "from keras.models import Sequential\n",
    "from keras.layers import Dense, LSTM,Dropout\n",
    "import tensorflow as tf"
   ]
  },
  {
   "cell_type": "code",
   "execution_count": 242,
   "metadata": {},
   "outputs": [],
   "source": [
    "test_datensatz = pd.read_csv(\"example_test.csv\")\n",
    "btc_test = test_datensatz[test_datensatz[\"Asset_ID\"]==1].set_index(\"timestamp\")"
   ]
  },
  {
   "cell_type": "code",
   "execution_count": 243,
   "metadata": {},
   "outputs": [],
   "source": [
    "model = Sequential()\n",
    "model.add(Dense(256, input_dim=7, activation='relu'))\n",
    "model.add(Dense(126, activation='relu'))\n",
    "model.add(Dense(64, activation='relu'))\n",
    "model.add(Dense(32, activation='relu'))\n",
    "model.add(Dense(16, activation='relu'))\n",
    "model.add(Dense(8, activation='relu'))\n",
    "model.add(Dense(1, activation='sigmoid'))\n",
    "\n",
    "model.compile(optimizer='adam', \n",
    "              loss='binary_crossentropy',\n",
    "              metrics=['accuracy'])\n"
   ]
  },
  {
   "cell_type": "code",
   "execution_count": 244,
   "metadata": {},
   "outputs": [],
   "source": [
    "btc_y = np.array(btc_target_label)\n",
    "btc_x = btc.drop([\"Target\",\"Asset_ID\",\"index\"], axis=1).reset_index(drop=True)"
   ]
  },
  {
   "cell_type": "code",
   "execution_count": 245,
   "metadata": {},
   "outputs": [
    {
     "name": "stdout",
     "output_type": "stream",
     "text": [
      "1956282\n",
      "1956282\n"
     ]
    }
   ],
   "source": [
    "print(len(btc_y))\n",
    "print(btc_x.shape[0])"
   ]
  },
  {
   "cell_type": "code",
   "execution_count": 246,
   "metadata": {},
   "outputs": [],
   "source": [
    "#model.save_weights(\"./Models/model_1_nn\")"
   ]
  },
  {
   "cell_type": "code",
   "execution_count": 247,
   "metadata": {},
   "outputs": [],
   "source": [
    "# model.fit(\n",
    "#     x = btc_x,\n",
    "#     y = btc_y,\n",
    "#     epochs=10, \n",
    "#     batch_size=10\n",
    "# )"
   ]
  },
  {
   "cell_type": "markdown",
   "metadata": {},
   "source": [
    "## LSTM"
   ]
  },
  {
   "cell_type": "code",
   "execution_count": 248,
   "metadata": {},
   "outputs": [],
   "source": [
    "scaler = StandardScaler()\n",
    "scaler = scaler.fit(btc_x)\n",
    "btc_x_scaled = scaler.transform(btc_x)\n",
    "btc_target_label = btc_target_label[:-96]"
   ]
  },
  {
   "cell_type": "code",
   "execution_count": 249,
   "metadata": {},
   "outputs": [
    {
     "name": "stdout",
     "output_type": "stream",
     "text": [
      "(1956282, 7)\n",
      "1956186\n"
     ]
    }
   ],
   "source": [
    "print(btc_x_scaled.shape)\n",
    "print(len(btc_target_label))"
   ]
  },
  {
   "cell_type": "code",
   "execution_count": 250,
   "metadata": {},
   "outputs": [],
   "source": [
    "n_future = 1 #Naechste 15min prädizieren\n",
    "n_past = 96 #(24*60)/15  --  letzte 24h mit einbeziehen"
   ]
  },
  {
   "cell_type": "code",
   "execution_count": 251,
   "metadata": {},
   "outputs": [],
   "source": [
    "train_x = []\n",
    "train_y = []\n",
    "for i in range(n_past,len(btc_x_scaled)-n_future+1):\n",
    "    train_x.append(btc_x_scaled[i-n_past:i, 0:btc_x_scaled.shape[1]])\n",
    "train_x,train_y = np.array(train_x), np.array(btc_target_label)"
   ]
  },
  {
   "cell_type": "code",
   "execution_count": 252,
   "metadata": {},
   "outputs": [
    {
     "name": "stdout",
     "output_type": "stream",
     "text": [
      "(1956186, 96, 7)\n",
      "[1 1 1 ... 0 0 0]\n"
     ]
    }
   ],
   "source": [
    "print(train_x.shape)\n",
    "print(train_y)"
   ]
  },
  {
   "cell_type": "code",
   "execution_count": 253,
   "metadata": {},
   "outputs": [],
   "source": [
    "model = Sequential()\n",
    "model.add(LSTM(64,activation='tanh', input_shape=(96,7), return_sequences=True))\n",
    "model.add(LSTM(32,activation='tanh', return_sequences=False))\n",
    "model.add(Dropout(0.2))\n",
    "model.add(Dense(1, activation='sigmoid'))\n",
    "\n",
    "model.compile(optimizer='adam', \n",
    "              loss='binary_crossentropy',\n",
    "              metrics=['accuracy'])"
   ]
  },
  {
   "cell_type": "code",
   "execution_count": 254,
   "metadata": {},
   "outputs": [
    {
     "name": "stdout",
     "output_type": "stream",
     "text": [
      "Model: \"sequential_13\"\n",
      "_________________________________________________________________\n",
      " Layer (type)                Output Shape              Param #   \n",
      "=================================================================\n",
      " lstm_7 (LSTM)               (None, 96, 64)            18432     \n",
      "                                                                 \n",
      " lstm_8 (LSTM)               (None, 32)                12416     \n",
      "                                                                 \n",
      " dropout_2 (Dropout)         (None, 32)                0         \n",
      "                                                                 \n",
      " dense_57 (Dense)            (None, 1)                 33        \n",
      "                                                                 \n",
      "=================================================================\n",
      "Total params: 30,881\n",
      "Trainable params: 30,881\n",
      "Non-trainable params: 0\n",
      "_________________________________________________________________\n"
     ]
    }
   ],
   "source": [
    "model.summary()"
   ]
  },
  {
   "cell_type": "code",
   "execution_count": 255,
   "metadata": {},
   "outputs": [
    {
     "name": "stdout",
     "output_type": "stream",
     "text": [
      "Epoch 1/10\n",
      "122262/122262 [==============================] - 1256s 10ms/step - loss: 0.6930 - accuracy: 0.5078\n",
      "Epoch 2/10\n",
      "122262/122262 [==============================] - 1133s 9ms/step - loss: 0.6926 - accuracy: 0.5131\n",
      "Epoch 3/10\n",
      "122262/122262 [==============================] - 1111s 9ms/step - loss: 0.6923 - accuracy: 0.5157\n",
      "Epoch 4/10\n",
      "122262/122262 [==============================] - 1098s 9ms/step - loss: 0.6921 - accuracy: 0.5177\n",
      "Epoch 5/10\n",
      "122262/122262 [==============================] - 1056s 9ms/step - loss: 0.6919 - accuracy: 0.5192\n",
      "Epoch 6/10\n",
      "122262/122262 [==============================] - 1102s 9ms/step - loss: 0.6916 - accuracy: 0.5199\n",
      "Epoch 7/10\n",
      "122262/122262 [==============================] - 1105s 9ms/step - loss: 0.6918 - accuracy: 0.5198\n",
      "Epoch 8/10\n",
      "122262/122262 [==============================] - 1136s 9ms/step - loss: 0.6914 - accuracy: 0.5222\n",
      "Epoch 9/10\n",
      "122262/122262 [==============================] - 1136s 9ms/step - loss: 0.6914 - accuracy: 0.5220\n",
      "Epoch 10/10\n",
      "122262/122262 [==============================] - 1123s 9ms/step - loss: 0.6915 - accuracy: 0.5210\n"
     ]
    },
    {
     "data": {
      "text/plain": [
       "<keras.callbacks.History at 0x22e8c062cd0>"
      ]
     },
     "execution_count": 255,
     "metadata": {},
     "output_type": "execute_result"
    }
   ],
   "source": [
    "model.fit(\n",
    "    x = train_x,\n",
    "    y = train_y,\n",
    "    epochs=10, \n",
    "    batch_size=16\n",
    ")"
   ]
  },
  {
   "cell_type": "code",
   "execution_count": 256,
   "metadata": {},
   "outputs": [],
   "source": [
    "# https://stackoverflow.com/questions/68844792/lstm-will-not-use-cudnn-kernels-since-it-doesnt-meet-the-criteria-it-will-use"
   ]
  },
  {
   "cell_type": "code",
   "execution_count": null,
   "metadata": {},
   "outputs": [],
   "source": [
    "model.save_weights(\"./lstm/model_lstm_01\")"
   ]
  },
  {
   "cell_type": "markdown",
   "metadata": {},
   "source": [
    "## Resultat\n",
    "\n",
    "Training dauert sehr lang.\n",
    "Ergebnisse sind schlecht\n",
    "Zu wenig Epochen\n",
    "\n",
    "## Lösung\n",
    "Filtern nach eindeutigen Ereignissen. <br>\n",
    "Batch Size hochstellen <br>\n",
    "Neue Features suchen: <br>\n",
    " -> Saisonalität <br>\n",
    " -> FFT <br>\n",
    " -> Indikatoren <br>\n",
    " -> Volumen - Volatilität <br>\n",
    " -> transformer <br>\n",
    " -> Pump and dump pattern <br>\n"
   ]
  }
 ],
 "metadata": {
  "interpreter": {
   "hash": "4ad1efb602d1a4dfb21b20aa539ee8e1a85436a96afd9123b8553acffba50137"
  },
  "kernelspec": {
   "display_name": "Python 3.8.6 ('env': venv)",
   "language": "python",
   "name": "python3"
  },
  "language_info": {
   "codemirror_mode": {
    "name": "ipython",
    "version": 3
   },
   "file_extension": ".py",
   "mimetype": "text/x-python",
   "name": "python",
   "nbconvert_exporter": "python",
   "pygments_lexer": "ipython3",
   "version": "3.8.6"
  },
  "orig_nbformat": 4
 },
 "nbformat": 4,
 "nbformat_minor": 2
}
