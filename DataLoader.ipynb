{
 "cells": [
  {
   "cell_type": "code",
   "execution_count": 1,
   "metadata": {},
   "outputs": [],
   "source": [
    "import Oanda\n",
    "import pandas as pd\n",
    "import numpy as np\n",
    "import matplotlib.pyplot as plt\n",
    "from datetime import date, timedelta\n",
    "plt.style.use('seaborn')"
   ]
  },
  {
   "cell_type": "code",
   "execution_count": 2,
   "metadata": {},
   "outputs": [
    {
     "name": "stdout",
     "output_type": "stream",
     "text": [
      "<Response [200]>\n",
      "<Response [200]>\n"
     ]
    }
   ],
   "source": [
    "oanda = Oanda.Oanda()\n",
    "today = date.today()\n",
    "startDate = today - timedelta(days=365*4)\n",
    "spx_data = oanda.getHistoricalData(\"SPX500_USD\",startDate, today,\"D\" )\n",
    "btc_data = oanda.getHistoricalData(\"BTC_USD\",startDate, today,\"D\" )"
   ]
  },
  {
   "cell_type": "code",
   "execution_count": 3,
   "metadata": {},
   "outputs": [
    {
     "data": {
      "text/html": [
       "<div>\n",
       "<style scoped>\n",
       "    .dataframe tbody tr th:only-of-type {\n",
       "        vertical-align: middle;\n",
       "    }\n",
       "\n",
       "    .dataframe tbody tr th {\n",
       "        vertical-align: top;\n",
       "    }\n",
       "\n",
       "    .dataframe thead th {\n",
       "        text-align: right;\n",
       "    }\n",
       "</style>\n",
       "<table border=\"1\" class=\"dataframe\">\n",
       "  <thead>\n",
       "    <tr style=\"text-align: right;\">\n",
       "      <th></th>\n",
       "      <th>close</th>\n",
       "      <th>high</th>\n",
       "      <th>low</th>\n",
       "      <th>open</th>\n",
       "      <th>Year</th>\n",
       "      <th>Month</th>\n",
       "      <th>Day</th>\n",
       "      <th>Hour</th>\n",
       "      <th>Minute</th>\n",
       "    </tr>\n",
       "  </thead>\n",
       "  <tbody>\n",
       "    <tr>\n",
       "      <th>0</th>\n",
       "      <td>2679.0</td>\n",
       "      <td>2730.5</td>\n",
       "      <td>2658.2</td>\n",
       "      <td>2718.4</td>\n",
       "      <td>2018</td>\n",
       "      <td>2</td>\n",
       "      <td>28</td>\n",
       "      <td>22</td>\n",
       "      <td>0</td>\n",
       "    </tr>\n",
       "    <tr>\n",
       "      <th>1</th>\n",
       "      <td>2690.0</td>\n",
       "      <td>2695.6</td>\n",
       "      <td>2647.0</td>\n",
       "      <td>2678.9</td>\n",
       "      <td>2018</td>\n",
       "      <td>3</td>\n",
       "      <td>1</td>\n",
       "      <td>22</td>\n",
       "      <td>0</td>\n",
       "    </tr>\n",
       "    <tr>\n",
       "      <th>2</th>\n",
       "      <td>2718.8</td>\n",
       "      <td>2727.4</td>\n",
       "      <td>2663.6</td>\n",
       "      <td>2683.2</td>\n",
       "      <td>2018</td>\n",
       "      <td>3</td>\n",
       "      <td>4</td>\n",
       "      <td>22</td>\n",
       "      <td>0</td>\n",
       "    </tr>\n",
       "    <tr>\n",
       "      <th>3</th>\n",
       "      <td>2723.4</td>\n",
       "      <td>2734.2</td>\n",
       "      <td>2710.2</td>\n",
       "      <td>2719.0</td>\n",
       "      <td>2018</td>\n",
       "      <td>3</td>\n",
       "      <td>5</td>\n",
       "      <td>22</td>\n",
       "      <td>0</td>\n",
       "    </tr>\n",
       "    <tr>\n",
       "      <th>4</th>\n",
       "      <td>2721.8</td>\n",
       "      <td>2730.0</td>\n",
       "      <td>2681.2</td>\n",
       "      <td>2692.4</td>\n",
       "      <td>2018</td>\n",
       "      <td>3</td>\n",
       "      <td>6</td>\n",
       "      <td>22</td>\n",
       "      <td>0</td>\n",
       "    </tr>\n",
       "    <tr>\n",
       "      <th>...</th>\n",
       "      <td>...</td>\n",
       "      <td>...</td>\n",
       "      <td>...</td>\n",
       "      <td>...</td>\n",
       "      <td>...</td>\n",
       "      <td>...</td>\n",
       "      <td>...</td>\n",
       "      <td>...</td>\n",
       "      <td>...</td>\n",
       "    </tr>\n",
       "    <tr>\n",
       "      <th>1028</th>\n",
       "      <td>4315.0</td>\n",
       "      <td>4361.6</td>\n",
       "      <td>4253.0</td>\n",
       "      <td>4269.5</td>\n",
       "      <td>2022</td>\n",
       "      <td>2</td>\n",
       "      <td>21</td>\n",
       "      <td>22</td>\n",
       "      <td>0</td>\n",
       "    </tr>\n",
       "    <tr>\n",
       "      <th>1029</th>\n",
       "      <td>4218.0</td>\n",
       "      <td>4348.5</td>\n",
       "      <td>4215.5</td>\n",
       "      <td>4315.5</td>\n",
       "      <td>2022</td>\n",
       "      <td>2</td>\n",
       "      <td>22</td>\n",
       "      <td>22</td>\n",
       "      <td>0</td>\n",
       "    </tr>\n",
       "    <tr>\n",
       "      <th>1030</th>\n",
       "      <td>4272.6</td>\n",
       "      <td>4292.6</td>\n",
       "      <td>4104.4</td>\n",
       "      <td>4220.1</td>\n",
       "      <td>2022</td>\n",
       "      <td>2</td>\n",
       "      <td>23</td>\n",
       "      <td>22</td>\n",
       "      <td>0</td>\n",
       "    </tr>\n",
       "    <tr>\n",
       "      <th>1031</th>\n",
       "      <td>4381.9</td>\n",
       "      <td>4385.9</td>\n",
       "      <td>4229.6</td>\n",
       "      <td>4270.4</td>\n",
       "      <td>2022</td>\n",
       "      <td>2</td>\n",
       "      <td>24</td>\n",
       "      <td>22</td>\n",
       "      <td>0</td>\n",
       "    </tr>\n",
       "    <tr>\n",
       "      <th>1032</th>\n",
       "      <td>4371.9</td>\n",
       "      <td>4386.8</td>\n",
       "      <td>4254.1</td>\n",
       "      <td>4261.8</td>\n",
       "      <td>2022</td>\n",
       "      <td>2</td>\n",
       "      <td>27</td>\n",
       "      <td>22</td>\n",
       "      <td>0</td>\n",
       "    </tr>\n",
       "  </tbody>\n",
       "</table>\n",
       "<p>1033 rows × 9 columns</p>\n",
       "</div>"
      ],
      "text/plain": [
       "       close    high     low    open  Year  Month  Day  Hour  Minute\n",
       "0     2679.0  2730.5  2658.2  2718.4  2018      2   28    22       0\n",
       "1     2690.0  2695.6  2647.0  2678.9  2018      3    1    22       0\n",
       "2     2718.8  2727.4  2663.6  2683.2  2018      3    4    22       0\n",
       "3     2723.4  2734.2  2710.2  2719.0  2018      3    5    22       0\n",
       "4     2721.8  2730.0  2681.2  2692.4  2018      3    6    22       0\n",
       "...      ...     ...     ...     ...   ...    ...  ...   ...     ...\n",
       "1028  4315.0  4361.6  4253.0  4269.5  2022      2   21    22       0\n",
       "1029  4218.0  4348.5  4215.5  4315.5  2022      2   22    22       0\n",
       "1030  4272.6  4292.6  4104.4  4220.1  2022      2   23    22       0\n",
       "1031  4381.9  4385.9  4229.6  4270.4  2022      2   24    22       0\n",
       "1032  4371.9  4386.8  4254.1  4261.8  2022      2   27    22       0\n",
       "\n",
       "[1033 rows x 9 columns]"
      ]
     },
     "execution_count": 3,
     "metadata": {},
     "output_type": "execute_result"
    }
   ],
   "source": [
    "spx_data"
   ]
  },
  {
   "cell_type": "code",
   "execution_count": 4,
   "metadata": {},
   "outputs": [],
   "source": [
    "def createFeatures(data:pd.DataFrame) -> pd.DataFrame:\n",
    "    data[\"Weekly_Return\"] = ((data[\"close\"] - data[\"open\"].shift(7))/data[\"open\"].shift(7))  * 100\n",
    "    data[\"Daily_candel\"] = (data[\"close\"] - data[\"open\"])/data[\"open\"]\n",
    "    data[\"log_close\"] = np.log(1+(data[\"close\"]-data[\"close\"].shift(1))/data[\"close\"].shift(1))\n",
    "    "
   ]
  },
  {
   "cell_type": "code",
   "execution_count": 5,
   "metadata": {},
   "outputs": [],
   "source": [
    "createFeatures(spx_data)\n",
    "createFeatures(btc_data)"
   ]
  },
  {
   "cell_type": "code",
   "execution_count": 6,
   "metadata": {},
   "outputs": [
    {
     "data": {
      "text/html": [
       "<div>\n",
       "<style scoped>\n",
       "    .dataframe tbody tr th:only-of-type {\n",
       "        vertical-align: middle;\n",
       "    }\n",
       "\n",
       "    .dataframe tbody tr th {\n",
       "        vertical-align: top;\n",
       "    }\n",
       "\n",
       "    .dataframe thead th {\n",
       "        text-align: right;\n",
       "    }\n",
       "</style>\n",
       "<table border=\"1\" class=\"dataframe\">\n",
       "  <thead>\n",
       "    <tr style=\"text-align: right;\">\n",
       "      <th></th>\n",
       "      <th>close</th>\n",
       "      <th>high</th>\n",
       "      <th>low</th>\n",
       "      <th>open</th>\n",
       "      <th>Year</th>\n",
       "      <th>Month</th>\n",
       "      <th>Day</th>\n",
       "      <th>Hour</th>\n",
       "      <th>Minute</th>\n",
       "      <th>Weekly_Return</th>\n",
       "      <th>Daily_candel</th>\n",
       "      <th>log_close</th>\n",
       "    </tr>\n",
       "  </thead>\n",
       "  <tbody>\n",
       "    <tr>\n",
       "      <th>0</th>\n",
       "      <td>2679.0</td>\n",
       "      <td>2730.5</td>\n",
       "      <td>2658.2</td>\n",
       "      <td>2718.4</td>\n",
       "      <td>2018</td>\n",
       "      <td>2</td>\n",
       "      <td>28</td>\n",
       "      <td>22</td>\n",
       "      <td>0</td>\n",
       "      <td>NaN</td>\n",
       "      <td>-0.014494</td>\n",
       "      <td>NaN</td>\n",
       "    </tr>\n",
       "    <tr>\n",
       "      <th>1</th>\n",
       "      <td>2690.0</td>\n",
       "      <td>2695.6</td>\n",
       "      <td>2647.0</td>\n",
       "      <td>2678.9</td>\n",
       "      <td>2018</td>\n",
       "      <td>3</td>\n",
       "      <td>1</td>\n",
       "      <td>22</td>\n",
       "      <td>0</td>\n",
       "      <td>NaN</td>\n",
       "      <td>0.004143</td>\n",
       "      <td>0.004098</td>\n",
       "    </tr>\n",
       "    <tr>\n",
       "      <th>2</th>\n",
       "      <td>2718.8</td>\n",
       "      <td>2727.4</td>\n",
       "      <td>2663.6</td>\n",
       "      <td>2683.2</td>\n",
       "      <td>2018</td>\n",
       "      <td>3</td>\n",
       "      <td>4</td>\n",
       "      <td>22</td>\n",
       "      <td>0</td>\n",
       "      <td>NaN</td>\n",
       "      <td>0.013268</td>\n",
       "      <td>0.010649</td>\n",
       "    </tr>\n",
       "    <tr>\n",
       "      <th>3</th>\n",
       "      <td>2723.4</td>\n",
       "      <td>2734.2</td>\n",
       "      <td>2710.2</td>\n",
       "      <td>2719.0</td>\n",
       "      <td>2018</td>\n",
       "      <td>3</td>\n",
       "      <td>5</td>\n",
       "      <td>22</td>\n",
       "      <td>0</td>\n",
       "      <td>NaN</td>\n",
       "      <td>0.001618</td>\n",
       "      <td>0.001690</td>\n",
       "    </tr>\n",
       "    <tr>\n",
       "      <th>4</th>\n",
       "      <td>2721.8</td>\n",
       "      <td>2730.0</td>\n",
       "      <td>2681.2</td>\n",
       "      <td>2692.4</td>\n",
       "      <td>2018</td>\n",
       "      <td>3</td>\n",
       "      <td>6</td>\n",
       "      <td>22</td>\n",
       "      <td>0</td>\n",
       "      <td>NaN</td>\n",
       "      <td>0.010920</td>\n",
       "      <td>-0.000588</td>\n",
       "    </tr>\n",
       "    <tr>\n",
       "      <th>...</th>\n",
       "      <td>...</td>\n",
       "      <td>...</td>\n",
       "      <td>...</td>\n",
       "      <td>...</td>\n",
       "      <td>...</td>\n",
       "      <td>...</td>\n",
       "      <td>...</td>\n",
       "      <td>...</td>\n",
       "      <td>...</td>\n",
       "      <td>...</td>\n",
       "      <td>...</td>\n",
       "      <td>...</td>\n",
       "    </tr>\n",
       "    <tr>\n",
       "      <th>1028</th>\n",
       "      <td>4315.0</td>\n",
       "      <td>4361.6</td>\n",
       "      <td>4253.0</td>\n",
       "      <td>4269.5</td>\n",
       "      <td>2022</td>\n",
       "      <td>2</td>\n",
       "      <td>21</td>\n",
       "      <td>22</td>\n",
       "      <td>0</td>\n",
       "      <td>-4.119634</td>\n",
       "      <td>0.010657</td>\n",
       "      <td>0.005158</td>\n",
       "    </tr>\n",
       "    <tr>\n",
       "      <th>1029</th>\n",
       "      <td>4218.0</td>\n",
       "      <td>4348.5</td>\n",
       "      <td>4215.5</td>\n",
       "      <td>4315.5</td>\n",
       "      <td>2022</td>\n",
       "      <td>2</td>\n",
       "      <td>22</td>\n",
       "      <td>22</td>\n",
       "      <td>0</td>\n",
       "      <td>-4.561499</td>\n",
       "      <td>-0.022593</td>\n",
       "      <td>-0.022736</td>\n",
       "    </tr>\n",
       "    <tr>\n",
       "      <th>1030</th>\n",
       "      <td>4272.6</td>\n",
       "      <td>4292.6</td>\n",
       "      <td>4104.4</td>\n",
       "      <td>4220.1</td>\n",
       "      <td>2022</td>\n",
       "      <td>2</td>\n",
       "      <td>23</td>\n",
       "      <td>22</td>\n",
       "      <td>0</td>\n",
       "      <td>-2.910901</td>\n",
       "      <td>0.012440</td>\n",
       "      <td>0.012861</td>\n",
       "    </tr>\n",
       "    <tr>\n",
       "      <th>1031</th>\n",
       "      <td>4381.9</td>\n",
       "      <td>4385.9</td>\n",
       "      <td>4229.6</td>\n",
       "      <td>4270.4</td>\n",
       "      <td>2022</td>\n",
       "      <td>2</td>\n",
       "      <td>24</td>\n",
       "      <td>22</td>\n",
       "      <td>0</td>\n",
       "      <td>-1.799561</td>\n",
       "      <td>0.026110</td>\n",
       "      <td>0.025260</td>\n",
       "    </tr>\n",
       "    <tr>\n",
       "      <th>1032</th>\n",
       "      <td>4371.9</td>\n",
       "      <td>4386.8</td>\n",
       "      <td>4254.1</td>\n",
       "      <td>4261.8</td>\n",
       "      <td>2022</td>\n",
       "      <td>2</td>\n",
       "      <td>27</td>\n",
       "      <td>22</td>\n",
       "      <td>0</td>\n",
       "      <td>-2.181501</td>\n",
       "      <td>0.025834</td>\n",
       "      <td>-0.002285</td>\n",
       "    </tr>\n",
       "  </tbody>\n",
       "</table>\n",
       "<p>1033 rows × 12 columns</p>\n",
       "</div>"
      ],
      "text/plain": [
       "       close    high     low    open  Year  Month  Day  Hour  Minute  \\\n",
       "0     2679.0  2730.5  2658.2  2718.4  2018      2   28    22       0   \n",
       "1     2690.0  2695.6  2647.0  2678.9  2018      3    1    22       0   \n",
       "2     2718.8  2727.4  2663.6  2683.2  2018      3    4    22       0   \n",
       "3     2723.4  2734.2  2710.2  2719.0  2018      3    5    22       0   \n",
       "4     2721.8  2730.0  2681.2  2692.4  2018      3    6    22       0   \n",
       "...      ...     ...     ...     ...   ...    ...  ...   ...     ...   \n",
       "1028  4315.0  4361.6  4253.0  4269.5  2022      2   21    22       0   \n",
       "1029  4218.0  4348.5  4215.5  4315.5  2022      2   22    22       0   \n",
       "1030  4272.6  4292.6  4104.4  4220.1  2022      2   23    22       0   \n",
       "1031  4381.9  4385.9  4229.6  4270.4  2022      2   24    22       0   \n",
       "1032  4371.9  4386.8  4254.1  4261.8  2022      2   27    22       0   \n",
       "\n",
       "      Weekly_Return  Daily_candel  log_close  \n",
       "0               NaN     -0.014494        NaN  \n",
       "1               NaN      0.004143   0.004098  \n",
       "2               NaN      0.013268   0.010649  \n",
       "3               NaN      0.001618   0.001690  \n",
       "4               NaN      0.010920  -0.000588  \n",
       "...             ...           ...        ...  \n",
       "1028      -4.119634      0.010657   0.005158  \n",
       "1029      -4.561499     -0.022593  -0.022736  \n",
       "1030      -2.910901      0.012440   0.012861  \n",
       "1031      -1.799561      0.026110   0.025260  \n",
       "1032      -2.181501      0.025834  -0.002285  \n",
       "\n",
       "[1033 rows x 12 columns]"
      ]
     },
     "execution_count": 6,
     "metadata": {},
     "output_type": "execute_result"
    }
   ],
   "source": [
    "spx_data"
   ]
  },
  {
   "cell_type": "code",
   "execution_count": 7,
   "metadata": {},
   "outputs": [
    {
     "data": {
      "text/plain": [
       "<AxesSubplot:>"
      ]
     },
     "execution_count": 7,
     "metadata": {},
     "output_type": "execute_result"
    },
    {
     "data": {
      "image/png": "[encoded data removed]",
      "text/plain": [
       "<Figure size 576x396 with 1 Axes>"
      ]
     },
     "metadata": {},
     "output_type": "display_data"
    }
   ],
   "source": [
    "spx_data[\"Weekly_Return\"].hist()"
   ]
  },
  {
   "cell_type": "code",
   "execution_count": 8,
   "metadata": {},
   "outputs": [
    {
     "data": {
      "text/plain": [
       "<AxesSubplot:>"
      ]
     },
     "execution_count": 8,
     "metadata": {},
     "output_type": "execute_result"
    },
    {
     "data": {
      "image/png": "[encoded data removed]",
      "text/plain": [
       "<Figure size 576x396 with 1 Axes>"
      ]
     },
     "metadata": {},
     "output_type": "display_data"
    }
   ],
   "source": [
    "spx_data[\"Daily_candel\"].hist()"
   ]
  },
  {
   "cell_type": "code",
   "execution_count": 9,
   "metadata": {},
   "outputs": [
    {
     "data": {
      "text/plain": [
       "<AxesSubplot:>"
      ]
     },
     "execution_count": 9,
     "metadata": {},
     "output_type": "execute_result"
    },
    {
     "data": {
      "image/png": "[encoded data removed]",
      "text/plain": [
       "<Figure size 576x396 with 1 Axes>"
      ]
     },
     "metadata": {},
     "output_type": "display_data"
    }
   ],
   "source": [
    "spx_data[\"log_close\"].hist()"
   ]
  },
  {
   "cell_type": "code",
   "execution_count": 10,
   "metadata": {},
   "outputs": [
    {
     "data": {
      "text/plain": [
       "<AxesSubplot:>"
      ]
     },
     "execution_count": 10,
     "metadata": {},
     "output_type": "execute_result"
    },
    {
     "data": {
      "image/png": "[encoded data removed]",
      "text/plain": [
       "<Figure size 576x396 with 1 Axes>"
      ]
     },
     "metadata": {},
     "output_type": "display_data"
    }
   ],
   "source": [
    "spx_data.boxplot(column=[\"Weekly_Return\"], return_type=\"axes\")"
   ]
  },
  {
   "cell_type": "code",
   "execution_count": 11,
   "metadata": {},
   "outputs": [
    {
     "data": {
      "text/plain": [
       "<AxesSubplot:>"
      ]
     },
     "execution_count": 11,
     "metadata": {},
     "output_type": "execute_result"
    },
    {
     "data": {
      "image/png": "[encoded data removed]",
      "text/plain": [
       "<Figure size 576x396 with 1 Axes>"
      ]
     },
     "metadata": {},
     "output_type": "display_data"
    }
   ],
   "source": [
    "spx_data.boxplot(column=[\"log_close\"], return_type=\"axes\")"
   ]
  },
  {
   "cell_type": "code",
   "execution_count": 12,
   "metadata": {},
   "outputs": [
    {
     "data": {
      "text/plain": [
       "<AxesSubplot:>"
      ]
     },
     "execution_count": 12,
     "metadata": {},
     "output_type": "execute_result"
    },
    {
     "data": {
      "image/png": "[encoded data removed]",
      "text/plain": [
       "<Figure size 576x396 with 1 Axes>"
      ]
     },
     "metadata": {},
     "output_type": "display_data"
    }
   ],
   "source": [
    "btc_data.boxplot(column=[\"Weekly_Return\"], return_type=\"axes\")"
   ]
  },
  {
   "cell_type": "code",
   "execution_count": 13,
   "metadata": {},
   "outputs": [
    {
     "data": {
      "text/plain": [
       "<AxesSubplot:>"
      ]
     },
     "execution_count": 13,
     "metadata": {},
     "output_type": "execute_result"
    },
    {
     "data": {
      "image/png": "[encoded data removed]",
      "text/plain": [
       "<Figure size 576x396 with 1 Axes>"
      ]
     },
     "metadata": {},
     "output_type": "display_data"
    }
   ],
   "source": [
    "btc_data.boxplot(column=[\"log_close\"], return_type=\"axes\")"
   ]
  },
  {
   "cell_type": "code",
   "execution_count": 14,
   "metadata": {},
   "outputs": [],
   "source": [
    "def boxPlotYearReturns(df: pd.DataFrame):\n",
    "    \"\"\"\n",
    "    Create Columns for every year - weekly return\n",
    "\n",
    "    Args:\n",
    "        df (pd.DataFrame): Dataframe with column Weekly_Return\n",
    "    \"\"\"\n",
    "    df_year = df[df[\"Year\"] == 2018]\n",
    "    df_year = df_year.rename(columns={\"Weekly_Return\": \"Weekly_Return_\"+str(2018)})\n",
    "    df_year_len = len(df_year)\n",
    "    for year in range(2019,2022):\n",
    "        df_year_zw = df[df[\"Year\"] == year]\n",
    "        df_year_zw = df_year_zw[\"Weekly_Return\"].tolist()\n",
    "        while(len(df_year_zw) > df_year_len):\n",
    "            df_year_zw = df_year_zw[:-1]\n",
    "        if len(df_year_zw) < df_year_len:\n",
    "            for _ in range(df_year_len - len(df_year_zw)):\n",
    "                df_year_zw.append(np.nan)\n",
    "            \n",
    "        df_year[\"Weekly_Return_\"+str(year)] = df_year_zw\n",
    "    return df_year"
   ]
  },
  {
   "cell_type": "code",
   "execution_count": 15,
   "metadata": {},
   "outputs": [],
   "source": [
    "year_df_btc = boxPlotYearReturns(btc_data)"
   ]
  },
  {
   "cell_type": "code",
   "execution_count": 17,
   "metadata": {},
   "outputs": [
    {
     "data": {
      "text/plain": [
       "<AxesSubplot:>"
      ]
     },
     "execution_count": 17,
     "metadata": {},
     "output_type": "execute_result"
    },
    {
     "data": {
      "image/png": "[encoded data removed]",
      "text/plain": [
       "<Figure size 576x396 with 1 Axes>"
      ]
     },
     "metadata": {},
     "output_type": "display_data"
    }
   ],
   "source": [
    "year_df_btc.boxplot(column=[\"Weekly_Return_2018\",\"Weekly_Return_2019\",\"Weekly_Return_2020\",\"Weekly_Return_2021\"], return_type=\"axes\")"
   ]
  },
  {
   "cell_type": "code",
   "execution_count": 18,
   "metadata": {},
   "outputs": [],
   "source": [
    "def countOutliers(column: pd.Series)->int:\n",
    "    q75 = column.quantile(.75)\n",
    "    q25 = column.quantile(.25)\n",
    "    iqr = q75 - q25\n",
    "    fence_high = q75 + 1.5*iqr\n",
    "    column=column[column > fence_high]\n",
    "    print(len(column))"
   ]
  },
  {
   "cell_type": "code",
   "execution_count": 19,
   "metadata": {},
   "outputs": [
    {
     "name": "stdout",
     "output_type": "stream",
     "text": [
      "19\n"
     ]
    }
   ],
   "source": [
    "countOutliers(year_df_btc[\"Weekly_Return_2019\"])"
   ]
  },
  {
   "cell_type": "code",
   "execution_count": 20,
   "metadata": {},
   "outputs": [
    {
     "data": {
      "text/plain": [
       "<AxesSubplot:>"
      ]
     },
     "execution_count": 20,
     "metadata": {},
     "output_type": "execute_result"
    },
    {
     "data": {
      "image/png": "[encoded data removed]",
      "text/plain": [
       "<Figure size 576x396 with 1 Axes>"
      ]
     },
     "metadata": {},
     "output_type": "display_data"
    }
   ],
   "source": [
    "year_df_spx = boxPlotYearReturns(spx_data)\n",
    "year_df_spx.boxplot(column=[\"Weekly_Return_2018\",\"Weekly_Return_2019\",\"Weekly_Return_2020\",\"Weekly_Return_2021\"], return_type=\"axes\")"
   ]
  }
 ],
 "metadata": {
  "interpreter": {
   "hash": "0a43c3fec63a8b773fcb15bbadc2a0304552a1c653c3046f864f79e2e8811543"
  },
  "kernelspec": {
   "display_name": "Python 3.8.6 ('env': venv)",
   "language": "python",
   "name": "python3"
  },
  "language_info": {
   "codemirror_mode": {
    "name": "ipython",
    "version": 3
   },
   "file_extension": ".py",
   "mimetype": "text/x-python",
   "name": "python",
   "nbconvert_exporter": "python",
   "pygments_lexer": "ipython3",
   "version": "3.8.6"
  },
  "orig_nbformat": 4
 },
 "nbformat": 4,
 "nbformat_minor": 2
}
